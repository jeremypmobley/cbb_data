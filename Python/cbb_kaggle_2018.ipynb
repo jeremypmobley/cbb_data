{
 "cells": [
  {
   "cell_type": "code",
   "execution_count": 1,
   "metadata": {},
   "outputs": [],
   "source": [
    "from helper_functions import *"
   ]
  },
  {
   "cell_type": "code",
   "execution_count": 2,
   "metadata": {},
   "outputs": [
    {
     "data": {
      "text/plain": [
       "'/Users/jeremymobley/Desktop/cbb_modeling/Python'"
      ]
     },
     "execution_count": 2,
     "metadata": {},
     "output_type": "execute_result"
    }
   ],
   "source": [
    "pwd"
   ]
  },
  {
   "cell_type": "code",
   "execution_count": 3,
   "metadata": {},
   "outputs": [
    {
     "name": "stdout",
     "output_type": "stream",
     "text": [
      "/Users/jeremymobley/Desktop/cbb_modeling/data/2018\n"
     ]
    }
   ],
   "source": [
    "cd /Users/jeremymobley/Desktop/cbb_modeling/data/2018/"
   ]
  },
  {
   "cell_type": "code",
   "execution_count": 4,
   "metadata": {},
   "outputs": [],
   "source": [
    "from IPython.display import display, HTML\n",
    "import pandas as pd\n",
    "import numpy as np"
   ]
  },
  {
   "cell_type": "markdown",
   "metadata": {},
   "source": [
    "#### Load Data"
   ]
  },
  {
   "cell_type": "code",
   "execution_count": 5,
   "metadata": {},
   "outputs": [
    {
     "name": "stdout",
     "output_type": "stream",
     "text": [
      "Teams (364, 4)\n",
      "NCAATourneyCompactResults (2117, 8)\n",
      "NCAATourneyDetailedResults (981, 34)\n",
      "RegularSeasonDetailedResults (76636, 34)\n",
      "RegularSeasonCompactResults (150684, 8)\n",
      "SampleSubmissionStage1 (9112, 2)\n",
      "Seasons (34, 6)\n"
     ]
    }
   ],
   "source": [
    "teams = read_in_file_to_df(\"Teams\")\n",
    "tourney_compact_results = read_in_file_to_df(\"NCAATourneyCompactResults\")\n",
    "tourney_detailed_results = read_in_file_to_df(\"NCAATourneyDetailedResults\")\n",
    "reg_season_detailed_results = read_in_file_to_df(\"RegularSeasonDetailedResults\")\n",
    "reg_season_compact_results = read_in_file_to_df(\"RegularSeasonCompactResults\")\n",
    "sample_sub = read_in_file_to_df(\"SampleSubmissionStage1\")\n",
    "seasons = read_in_file_to_df(\"Seasons\")"
   ]
  },
  {
   "cell_type": "code",
   "execution_count": 6,
   "metadata": {},
   "outputs": [
    {
     "name": "stdout",
     "output_type": "stream",
     "text": [
      "(77617, 34)\n"
     ]
    }
   ],
   "source": [
    "all_detailed_results = pd.concat([reg_season_detailed_results, tourney_detailed_results])\n",
    "print(all_detailed_results.shape)"
   ]
  },
  {
   "cell_type": "markdown",
   "metadata": {},
   "source": [
    "### Calculate Advanced Metrics"
   ]
  },
  {
   "cell_type": "markdown",
   "metadata": {},
   "source": [
    "#### Add in possession features"
   ]
  },
  {
   "cell_type": "code",
   "execution_count": 7,
   "metadata": {},
   "outputs": [],
   "source": [
    "all_detailed_results = create_poss_fields(all_detailed_results)\n",
    "all_detailed_results = create_ppp_fields(all_detailed_results)"
   ]
  },
  {
   "cell_type": "markdown",
   "metadata": {},
   "source": [
    "#### Add advanced metrics\n",
    "Takes a few seconds..."
   ]
  },
  {
   "cell_type": "code",
   "execution_count": 64,
   "metadata": {},
   "outputs": [],
   "source": [
    "all_detailed_results = add_advanced_metrics(all_detailed_results)"
   ]
  },
  {
   "cell_type": "markdown",
   "metadata": {},
   "source": [
    "#### Add in team names"
   ]
  },
  {
   "cell_type": "code",
   "execution_count": 8,
   "metadata": {},
   "outputs": [
    {
     "name": "stdout",
     "output_type": "stream",
     "text": [
      "(77617, 39)\n",
      "(77617, 41)\n"
     ]
    }
   ],
   "source": [
    "print(all_detailed_results.shape)\n",
    "all_detailed_results = add_in_team_names(all_detailed_results, teams)\n",
    "print(all_detailed_results.shape)"
   ]
  },
  {
   "cell_type": "markdown",
   "metadata": {},
   "source": [
    "#### Add in date from DayNum"
   ]
  },
  {
   "cell_type": "code",
   "execution_count": 9,
   "metadata": {},
   "outputs": [
    {
     "name": "stdout",
     "output_type": "stream",
     "text": [
      "(77617, 41)\n",
      "(77617, 42)\n"
     ]
    }
   ],
   "source": [
    "print(all_detailed_results.shape)\n",
    "all_detailed_results = pd.merge(left=all_detailed_results, right=seasons[['Season', 'DayZero']], \n",
    "                                left_on='Season', right_on='Season', how='inner')\n",
    "\n",
    "all_detailed_results['game_date'] = all_detailed_results.apply(lambda row: datetime.datetime.strptime(row['DayZero'],\"%m/%d/%Y\") + datetime.timedelta(days=row['DayNum']), axis=1)\n",
    "all_detailed_results = all_detailed_results.drop('DayZero', 1)\n",
    "print(all_detailed_results.shape)"
   ]
  },
  {
   "cell_type": "code",
   "execution_count": null,
   "metadata": {},
   "outputs": [],
   "source": []
  },
  {
   "cell_type": "markdown",
   "metadata": {},
   "source": [
    "## Create train data set"
   ]
  },
  {
   "cell_type": "markdown",
   "metadata": {},
   "source": [
    "Train data set structure:  \n",
    "* Result field is binary 0/1 representing if Team1 beats Team2\n",
    "* Every game is represented by 2 different records"
   ]
  },
  {
   "cell_type": "code",
   "execution_count": 12,
   "metadata": {},
   "outputs": [
    {
     "name": "stdout",
     "output_type": "stream",
     "text": [
      "(155234, 43)\n"
     ]
    }
   ],
   "source": [
    "train = create_master_train(all_detailed_results)\n",
    "print(train.shape)"
   ]
  },
  {
   "cell_type": "markdown",
   "metadata": {},
   "source": [
    "#### Add rolling features"
   ]
  },
  {
   "cell_type": "code",
   "execution_count": 14,
   "metadata": {},
   "outputs": [],
   "source": [
    "train = create_rolling_avg_feature(train, \"t1_PPP\", num_games=5)"
   ]
  },
  {
   "cell_type": "code",
   "execution_count": null,
   "metadata": {},
   "outputs": [],
   "source": []
  },
  {
   "cell_type": "code",
   "execution_count": null,
   "metadata": {},
   "outputs": [],
   "source": []
  },
  {
   "cell_type": "code",
   "execution_count": null,
   "metadata": {},
   "outputs": [],
   "source": []
  },
  {
   "cell_type": "markdown",
   "metadata": {},
   "source": [
    "#### Look at all train records"
   ]
  },
  {
   "cell_type": "code",
   "execution_count": 16,
   "metadata": {},
   "outputs": [
    {
     "data": {
      "text/html": [
       "<table border=\"1\" class=\"dataframe\">\n",
       "  <thead>\n",
       "    <tr style=\"text-align: right;\">\n",
       "      <th></th>\n",
       "      <th>index</th>\n",
       "      <th>DayNum</th>\n",
       "      <th>NumOT</th>\n",
       "      <th>Result</th>\n",
       "      <th>Season</th>\n",
       "      <th>TotPoss</th>\n",
       "      <th>game_date</th>\n",
       "      <th>t1_Ast</th>\n",
       "      <th>t1_Blk</th>\n",
       "      <th>t1_DR</th>\n",
       "      <th>t1_FGA</th>\n",
       "      <th>t1_FGA3</th>\n",
       "      <th>t1_FGM</th>\n",
       "      <th>t1_FGM3</th>\n",
       "      <th>t1_FTA</th>\n",
       "      <th>t1_FTM</th>\n",
       "      <th>t1_Loc</th>\n",
       "      <th>t1_OR</th>\n",
       "      <th>t1_PF</th>\n",
       "      <th>t1_PPP</th>\n",
       "      <th>t1_Poss</th>\n",
       "      <th>t1_Score</th>\n",
       "      <th>t1_Stl</th>\n",
       "      <th>t1_TO</th>\n",
       "      <th>t1_TeamID</th>\n",
       "      <th>t1_TeamName</th>\n",
       "      <th>t2_Ast</th>\n",
       "      <th>t2_Blk</th>\n",
       "      <th>t2_DR</th>\n",
       "      <th>t2_FGA</th>\n",
       "      <th>t2_FGA3</th>\n",
       "      <th>t2_FGM</th>\n",
       "      <th>t2_FGM3</th>\n",
       "      <th>t2_FTA</th>\n",
       "      <th>t2_FTM</th>\n",
       "      <th>t2_OR</th>\n",
       "      <th>t2_PF</th>\n",
       "      <th>t2_PPP</th>\n",
       "      <th>t2_Poss</th>\n",
       "      <th>t2_Score</th>\n",
       "      <th>t2_Stl</th>\n",
       "      <th>t2_TO</th>\n",
       "      <th>t2_TeamID</th>\n",
       "      <th>t2_TeamName</th>\n",
       "      <th>t1_PPP_rolling_avg_5gm_t1_PPP</th>\n",
       "    </tr>\n",
       "  </thead>\n",
       "  <tbody>\n",
       "    <tr>\n",
       "      <th>44742</th>\n",
       "      <td>16536</td>\n",
       "      <td>12</td>\n",
       "      <td>0</td>\n",
       "      <td>1.0</td>\n",
       "      <td>2017</td>\n",
       "      <td>152.50</td>\n",
       "      <td>2016-11-12</td>\n",
       "      <td>22</td>\n",
       "      <td>2</td>\n",
       "      <td>25</td>\n",
       "      <td>54</td>\n",
       "      <td>17</td>\n",
       "      <td>36</td>\n",
       "      <td>9</td>\n",
       "      <td>32</td>\n",
       "      <td>24</td>\n",
       "      <td>H</td>\n",
       "      <td>8</td>\n",
       "      <td>24</td>\n",
       "      <td>1.377049</td>\n",
       "      <td>76.20</td>\n",
       "      <td>105</td>\n",
       "      <td>13</td>\n",
       "      <td>15</td>\n",
       "      <td>1207</td>\n",
       "      <td>Georgetown</td>\n",
       "      <td>11</td>\n",
       "      <td>2</td>\n",
       "      <td>13</td>\n",
       "      <td>57</td>\n",
       "      <td>25</td>\n",
       "      <td>21</td>\n",
       "      <td>6</td>\n",
       "      <td>28</td>\n",
       "      <td>12</td>\n",
       "      <td>20</td>\n",
       "      <td>26</td>\n",
       "      <td>0.786885</td>\n",
       "      <td>76.30</td>\n",
       "      <td>60</td>\n",
       "      <td>6</td>\n",
       "      <td>26</td>\n",
       "      <td>1367</td>\n",
       "      <td>SC Upstate</td>\n",
       "      <td>NaN</td>\n",
       "    </tr>\n",
       "    <tr>\n",
       "      <th>44743</th>\n",
       "      <td>94726</td>\n",
       "      <td>15</td>\n",
       "      <td>0</td>\n",
       "      <td>0.0</td>\n",
       "      <td>2017</td>\n",
       "      <td>148.40</td>\n",
       "      <td>2016-11-15</td>\n",
       "      <td>7</td>\n",
       "      <td>4</td>\n",
       "      <td>24</td>\n",
       "      <td>50</td>\n",
       "      <td>15</td>\n",
       "      <td>16</td>\n",
       "      <td>6</td>\n",
       "      <td>42</td>\n",
       "      <td>37</td>\n",
       "      <td>H</td>\n",
       "      <td>11</td>\n",
       "      <td>24</td>\n",
       "      <td>1.010782</td>\n",
       "      <td>73.95</td>\n",
       "      <td>75</td>\n",
       "      <td>6</td>\n",
       "      <td>15</td>\n",
       "      <td>1207</td>\n",
       "      <td>Georgetown</td>\n",
       "      <td>11</td>\n",
       "      <td>7</td>\n",
       "      <td>25</td>\n",
       "      <td>58</td>\n",
       "      <td>27</td>\n",
       "      <td>26</td>\n",
       "      <td>7</td>\n",
       "      <td>22</td>\n",
       "      <td>17</td>\n",
       "      <td>9</td>\n",
       "      <td>32</td>\n",
       "      <td>1.024259</td>\n",
       "      <td>74.45</td>\n",
       "      <td>76</td>\n",
       "      <td>6</td>\n",
       "      <td>15</td>\n",
       "      <td>1268</td>\n",
       "      <td>Maryland</td>\n",
       "      <td>NaN</td>\n",
       "    </tr>\n",
       "    <tr>\n",
       "      <th>44744</th>\n",
       "      <td>94716</td>\n",
       "      <td>17</td>\n",
       "      <td>0</td>\n",
       "      <td>0.0</td>\n",
       "      <td>2017</td>\n",
       "      <td>142.50</td>\n",
       "      <td>2016-11-17</td>\n",
       "      <td>14</td>\n",
       "      <td>3</td>\n",
       "      <td>18</td>\n",
       "      <td>56</td>\n",
       "      <td>20</td>\n",
       "      <td>23</td>\n",
       "      <td>3</td>\n",
       "      <td>32</td>\n",
       "      <td>23</td>\n",
       "      <td>H</td>\n",
       "      <td>12</td>\n",
       "      <td>25</td>\n",
       "      <td>1.010526</td>\n",
       "      <td>70.20</td>\n",
       "      <td>72</td>\n",
       "      <td>5</td>\n",
       "      <td>11</td>\n",
       "      <td>1207</td>\n",
       "      <td>Georgetown</td>\n",
       "      <td>12</td>\n",
       "      <td>2</td>\n",
       "      <td>26</td>\n",
       "      <td>51</td>\n",
       "      <td>12</td>\n",
       "      <td>28</td>\n",
       "      <td>6</td>\n",
       "      <td>28</td>\n",
       "      <td>16</td>\n",
       "      <td>10</td>\n",
       "      <td>29</td>\n",
       "      <td>1.094737</td>\n",
       "      <td>72.30</td>\n",
       "      <td>78</td>\n",
       "      <td>3</td>\n",
       "      <td>18</td>\n",
       "      <td>1117</td>\n",
       "      <td>Arkansas St</td>\n",
       "      <td>NaN</td>\n",
       "    </tr>\n",
       "    <tr>\n",
       "      <th>44745</th>\n",
       "      <td>15337</td>\n",
       "      <td>21</td>\n",
       "      <td>0</td>\n",
       "      <td>1.0</td>\n",
       "      <td>2017</td>\n",
       "      <td>141.95</td>\n",
       "      <td>2016-11-21</td>\n",
       "      <td>10</td>\n",
       "      <td>10</td>\n",
       "      <td>26</td>\n",
       "      <td>61</td>\n",
       "      <td>21</td>\n",
       "      <td>21</td>\n",
       "      <td>6</td>\n",
       "      <td>22</td>\n",
       "      <td>17</td>\n",
       "      <td>N</td>\n",
       "      <td>14</td>\n",
       "      <td>21</td>\n",
       "      <td>0.915815</td>\n",
       "      <td>72.45</td>\n",
       "      <td>65</td>\n",
       "      <td>8</td>\n",
       "      <td>15</td>\n",
       "      <td>1207</td>\n",
       "      <td>Georgetown</td>\n",
       "      <td>10</td>\n",
       "      <td>10</td>\n",
       "      <td>30</td>\n",
       "      <td>59</td>\n",
       "      <td>17</td>\n",
       "      <td>23</td>\n",
       "      <td>4</td>\n",
       "      <td>20</td>\n",
       "      <td>11</td>\n",
       "      <td>16</td>\n",
       "      <td>22</td>\n",
       "      <td>0.859458</td>\n",
       "      <td>69.50</td>\n",
       "      <td>61</td>\n",
       "      <td>7</td>\n",
       "      <td>17</td>\n",
       "      <td>1332</td>\n",
       "      <td>Oregon</td>\n",
       "      <td>NaN</td>\n",
       "    </tr>\n",
       "    <tr>\n",
       "      <th>44746</th>\n",
       "      <td>94712</td>\n",
       "      <td>22</td>\n",
       "      <td>0</td>\n",
       "      <td>0.0</td>\n",
       "      <td>2017</td>\n",
       "      <td>131.10</td>\n",
       "      <td>2016-11-22</td>\n",
       "      <td>7</td>\n",
       "      <td>1</td>\n",
       "      <td>20</td>\n",
       "      <td>47</td>\n",
       "      <td>15</td>\n",
       "      <td>18</td>\n",
       "      <td>5</td>\n",
       "      <td>20</td>\n",
       "      <td>16</td>\n",
       "      <td>N</td>\n",
       "      <td>1</td>\n",
       "      <td>16</td>\n",
       "      <td>0.869565</td>\n",
       "      <td>65.50</td>\n",
       "      <td>57</td>\n",
       "      <td>6</td>\n",
       "      <td>10</td>\n",
       "      <td>1207</td>\n",
       "      <td>Georgetown</td>\n",
       "      <td>12</td>\n",
       "      <td>5</td>\n",
       "      <td>30</td>\n",
       "      <td>65</td>\n",
       "      <td>22</td>\n",
       "      <td>28</td>\n",
       "      <td>5</td>\n",
       "      <td>16</td>\n",
       "      <td>12</td>\n",
       "      <td>20</td>\n",
       "      <td>18</td>\n",
       "      <td>1.113654</td>\n",
       "      <td>65.60</td>\n",
       "      <td>73</td>\n",
       "      <td>5</td>\n",
       "      <td>13</td>\n",
       "      <td>1458</td>\n",
       "      <td>Wisconsin</td>\n",
       "      <td>NaN</td>\n",
       "    </tr>\n",
       "  </tbody>\n",
       "</table>"
      ],
      "text/plain": [
       "<IPython.core.display.HTML object>"
      ]
     },
     "execution_count": 16,
     "metadata": {},
     "output_type": "execute_result"
    }
   ],
   "source": [
    "HTML(train[(train['Season']==2017) & (train['t1_TeamID']==1207)].sort_values('DayNum').head().to_html())"
   ]
  },
  {
   "cell_type": "code",
   "execution_count": null,
   "metadata": {},
   "outputs": [],
   "source": []
  },
  {
   "cell_type": "code",
   "execution_count": null,
   "metadata": {},
   "outputs": [],
   "source": []
  },
  {
   "cell_type": "code",
   "execution_count": null,
   "metadata": {},
   "outputs": [],
   "source": []
  },
  {
   "cell_type": "code",
   "execution_count": null,
   "metadata": {},
   "outputs": [],
   "source": []
  },
  {
   "cell_type": "code",
   "execution_count": null,
   "metadata": {},
   "outputs": [],
   "source": []
  },
  {
   "cell_type": "markdown",
   "metadata": {},
   "source": [
    "# Modeling"
   ]
  },
  {
   "cell_type": "markdown",
   "metadata": {},
   "source": [
    "* Build models to predict 0/1 winner - logistic regression\n",
    "* Build models to predict point spread - secondary model to convert pointspreads to percentages"
   ]
  },
  {
   "cell_type": "code",
   "execution_count": null,
   "metadata": {},
   "outputs": [],
   "source": []
  },
  {
   "cell_type": "code",
   "execution_count": null,
   "metadata": {},
   "outputs": [],
   "source": []
  },
  {
   "cell_type": "code",
   "execution_count": null,
   "metadata": {},
   "outputs": [],
   "source": []
  },
  {
   "cell_type": "code",
   "execution_count": null,
   "metadata": {},
   "outputs": [],
   "source": []
  },
  {
   "cell_type": "code",
   "execution_count": null,
   "metadata": {},
   "outputs": [],
   "source": []
  },
  {
   "cell_type": "code",
   "execution_count": null,
   "metadata": {},
   "outputs": [],
   "source": []
  },
  {
   "cell_type": "code",
   "execution_count": null,
   "metadata": {},
   "outputs": [],
   "source": []
  },
  {
   "cell_type": "code",
   "execution_count": null,
   "metadata": {},
   "outputs": [],
   "source": []
  },
  {
   "cell_type": "code",
   "execution_count": null,
   "metadata": {},
   "outputs": [],
   "source": []
  },
  {
   "cell_type": "code",
   "execution_count": null,
   "metadata": {},
   "outputs": [],
   "source": []
  }
 ],
 "metadata": {
  "kernelspec": {
   "display_name": "Python 3",
   "language": "python",
   "name": "python3"
  },
  "language_info": {
   "codemirror_mode": {
    "name": "ipython",
    "version": 3
   },
   "file_extension": ".py",
   "mimetype": "text/x-python",
   "name": "python",
   "nbconvert_exporter": "python",
   "pygments_lexer": "ipython3",
   "version": "3.6.4"
  }
 },
 "nbformat": 4,
 "nbformat_minor": 2
}
