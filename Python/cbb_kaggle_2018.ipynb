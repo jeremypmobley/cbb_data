{
 "cells": [
  {
   "cell_type": "code",
   "execution_count": 1,
   "metadata": {},
   "outputs": [],
   "source": [
    "%matplotlib inline"
   ]
  },
  {
   "cell_type": "code",
   "execution_count": 2,
   "metadata": {},
   "outputs": [
    {
     "data": {
      "text/plain": [
       "'/Users/jeremymobley/Desktop/cbb_modeling/Python'"
      ]
     },
     "execution_count": 2,
     "metadata": {},
     "output_type": "execute_result"
    }
   ],
   "source": [
    "pwd"
   ]
  },
  {
   "cell_type": "code",
   "execution_count": 3,
   "metadata": {},
   "outputs": [],
   "source": [
    "from helper_functions import *"
   ]
  },
  {
   "cell_type": "code",
   "execution_count": 4,
   "metadata": {},
   "outputs": [
    {
     "name": "stdout",
     "output_type": "stream",
     "text": [
      "/Users/jeremymobley/Desktop/cbb_modeling/data/2018\n"
     ]
    }
   ],
   "source": [
    "cd /Users/jeremymobley/Desktop/cbb_modeling/data/2018/"
   ]
  },
  {
   "cell_type": "code",
   "execution_count": 5,
   "metadata": {},
   "outputs": [],
   "source": [
    "import scipy\n",
    "import time\n",
    "import pandas as pd\n",
    "import numpy as np\n",
    "import matplotlib.pyplot as plt\n",
    "from IPython.display import display, HTML\n",
    "from sklearn import linear_model\n",
    "from sklearn.utils import shuffle\n",
    "from sklearn.model_selection import GridSearchCV\n",
    "from sklearn import feature_selection\n",
    "from sklearn.ensemble import GradientBoostingClassifier\n",
    "from sklearn.ensemble import GradientBoostingRegressor"
   ]
  },
  {
   "cell_type": "markdown",
   "metadata": {},
   "source": [
    "#### Load Data"
   ]
  },
  {
   "cell_type": "code",
   "execution_count": 6,
   "metadata": {},
   "outputs": [
    {
     "name": "stdout",
     "output_type": "stream",
     "text": [
      "Teams (364, 4)\n",
      "NCAATourneyCompactResults (2117, 8)\n",
      "NCAATourneyDetailedResults (981, 34)\n",
      "RegularSeasonDetailedResults (82041, 34)\n",
      "RegularSeasonCompactResults (156089, 8)\n",
      "SampleSubmissionStage1 (9112, 2)\n",
      "SampleSubmissionStage2 (2278, 2)\n",
      "Seasons (34, 6)\n"
     ]
    }
   ],
   "source": [
    "teams = read_in_file_to_df(\"Teams\")\n",
    "tourney_compact_results = read_in_file_to_df(\"NCAATourneyCompactResults\")\n",
    "tourney_detailed_results = read_in_file_to_df(\"NCAATourneyDetailedResults\")\n",
    "reg_season_detailed_results = read_in_file_to_df(\"RegularSeasonDetailedResults\")\n",
    "reg_season_compact_results = read_in_file_to_df(\"RegularSeasonCompactResults\")\n",
    "sample_sub1 = read_in_file_to_df(\"SampleSubmissionStage1\")\n",
    "sample_sub2 = read_in_file_to_df(\"SampleSubmissionStage2\")\n",
    "seasons = read_in_file_to_df(\"Seasons\")"
   ]
  },
  {
   "cell_type": "markdown",
   "metadata": {},
   "source": [
    "#### Combine regular season and tourney detailed results"
   ]
  },
  {
   "cell_type": "code",
   "execution_count": 7,
   "metadata": {},
   "outputs": [
    {
     "name": "stdout",
     "output_type": "stream",
     "text": [
      "(83022, 34)\n"
     ]
    }
   ],
   "source": [
    "all_detailed_results = pd.concat([reg_season_detailed_results, tourney_detailed_results])\n",
    "print(all_detailed_results.shape)"
   ]
  },
  {
   "cell_type": "markdown",
   "metadata": {},
   "source": [
    "### Calculate Advanced Metrics"
   ]
  },
  {
   "cell_type": "markdown",
   "metadata": {},
   "source": [
    "#### Add in possession features"
   ]
  },
  {
   "cell_type": "code",
   "execution_count": 8,
   "metadata": {},
   "outputs": [],
   "source": [
    "all_detailed_results = create_poss_fields(all_detailed_results)\n",
    "all_detailed_results = create_ppp_fields(all_detailed_results)"
   ]
  },
  {
   "cell_type": "markdown",
   "metadata": {},
   "source": [
    "#### Add advanced metrics\n",
    "Takes a few seconds..."
   ]
  },
  {
   "cell_type": "code",
   "execution_count": 9,
   "metadata": {},
   "outputs": [],
   "source": [
    "all_detailed_results = add_advanced_metrics(all_detailed_results)"
   ]
  },
  {
   "cell_type": "markdown",
   "metadata": {},
   "source": [
    "#### Add in date from DayNum"
   ]
  },
  {
   "cell_type": "code",
   "execution_count": 10,
   "metadata": {},
   "outputs": [
    {
     "name": "stdout",
     "output_type": "stream",
     "text": [
      "(83022, 62)\n"
     ]
    }
   ],
   "source": [
    "all_detailed_results = add_in_date(all_detailed_results, seasons)\n",
    "print(all_detailed_results.shape)"
   ]
  },
  {
   "cell_type": "markdown",
   "metadata": {},
   "source": [
    "#### Add in team names"
   ]
  },
  {
   "cell_type": "code",
   "execution_count": 11,
   "metadata": {},
   "outputs": [
    {
     "name": "stdout",
     "output_type": "stream",
     "text": [
      "(83022, 64)\n"
     ]
    }
   ],
   "source": [
    "all_detailed_results = add_in_team_names(all_detailed_results, teams)\n",
    "print(all_detailed_results.shape)"
   ]
  },
  {
   "cell_type": "code",
   "execution_count": 12,
   "metadata": {},
   "outputs": [
    {
     "name": "stdout",
     "output_type": "stream",
     "text": [
      "(83022, 65)\n"
     ]
    }
   ],
   "source": [
    "# Add in score_diff field\n",
    "all_detailed_results['score_diff'] = all_detailed_results['WScore'] - all_detailed_results['LScore']\n",
    "print(all_detailed_results.shape)"
   ]
  },
  {
   "cell_type": "markdown",
   "metadata": {},
   "source": [
    "## Create train data set"
   ]
  },
  {
   "cell_type": "markdown",
   "metadata": {},
   "source": [
    "Train data set structure:  \n",
    "* Result field is binary 0/1 representing if Team1 beats Team2\n",
    "* Every game is represented by 2 different records"
   ]
  },
  {
   "cell_type": "code",
   "execution_count": 13,
   "metadata": {},
   "outputs": [
    {
     "name": "stdout",
     "output_type": "stream",
     "text": [
      "(166044, 66)\n"
     ]
    }
   ],
   "source": [
    "train = create_master_train(all_detailed_results)\n",
    "print(train.shape)"
   ]
  },
  {
   "cell_type": "code",
   "execution_count": 14,
   "metadata": {},
   "outputs": [],
   "source": [
    "# Create location variables\n",
    "train['t1_Loc_H'] = [1 if loc==\"H\" else 0 for loc in train['t1_Loc']]\n",
    "train['t1_Loc_N'] = [1 if loc==\"N\" else 0 for loc in train['t1_Loc']]"
   ]
  },
  {
   "cell_type": "markdown",
   "metadata": {},
   "source": [
    "#### Add in Massey Ordinals"
   ]
  },
  {
   "cell_type": "code",
   "execution_count": 15,
   "metadata": {},
   "outputs": [
    {
     "name": "stdout",
     "output_type": "stream",
     "text": [
      "MasseyOrdinals_thruSeason2018_Day128 (3470328, 5)\n",
      "MasseyOrdinals_2018_133_only_43Systems (13854, 5)\n",
      "(3484182, 5)\n"
     ]
    }
   ],
   "source": [
    "# Read in massey_ordinals file\n",
    "massey_ordinals = read_in_file_to_df(\"MasseyOrdinals_thruSeason2018_Day128\")\n",
    "massey_ordinals_18 = read_in_file_to_df(\"MasseyOrdinals_2018_133_only_43Systems\")\n",
    "massey_ordinals.columns = ['Season', 'DayNum', 'SystemName', 'TeamID', 'OrdinalRank']\n",
    "massey_ordinals_18.columns = ['Season', 'DayNum', 'SystemName', 'TeamID', 'OrdinalRank']\n",
    "massey_ordinals = pd.concat([massey_ordinals, massey_ordinals_18])\n",
    "print(massey_ordinals.shape)"
   ]
  },
  {
   "cell_type": "code",
   "execution_count": 16,
   "metadata": {},
   "outputs": [],
   "source": [
    "massey_rank_systems = [\"WLK\", \"DOK\", \"POM\", \"MOR\", \"SAG\", \"WIL\", \"PGH\", \"NOL\", \"KPK\", \"MAS\"]"
   ]
  },
  {
   "cell_type": "code",
   "execution_count": 17,
   "metadata": {},
   "outputs": [],
   "source": [
    "for rnk_sys in massey_rank_systems:\n",
    "    train = add_in_massey_ordinal_field(train, rnk_sys, massey_ordinals)"
   ]
  },
  {
   "cell_type": "markdown",
   "metadata": {},
   "source": [
    "##### Look at Massey Ordinal data"
   ]
  },
  {
   "cell_type": "code",
   "execution_count": 374,
   "metadata": {},
   "outputs": [
    {
     "data": {
      "text/plain": [
       "WLK    31043\n",
       "DOK    31043\n",
       "POM    31043\n",
       "MOR    31043\n",
       "SAG    31043\n",
       "WIL    31042\n",
       "PGH    31030\n",
       "NOL    31011\n",
       "KPK    30695\n",
       "MAS    30695\n",
       "Name: SystemName, dtype: int64"
      ]
     },
     "execution_count": 374,
     "metadata": {},
     "output_type": "execute_result"
    }
   ],
   "source": [
    "# Look at most populated ranking systems\n",
    "massey_ordinals[(massey_ordinals['DayNum']>50) & (massey_ordinals['Season']>2010)]['SystemName'].value_counts().head(10)"
   ]
  },
  {
   "cell_type": "code",
   "execution_count": null,
   "metadata": {},
   "outputs": [],
   "source": []
  },
  {
   "cell_type": "markdown",
   "metadata": {},
   "source": [
    "## Look at all train records"
   ]
  },
  {
   "cell_type": "code",
   "execution_count": 20,
   "metadata": {},
   "outputs": [
    {
     "data": {
      "text/html": [
       "<table border=\"1\" class=\"dataframe\">\n",
       "  <thead>\n",
       "    <tr style=\"text-align: right;\">\n",
       "      <th></th>\n",
       "      <th>DayNum</th>\n",
       "      <th>NumOT</th>\n",
       "      <th>Result</th>\n",
       "      <th>Season</th>\n",
       "      <th>TotPoss</th>\n",
       "      <th>game_date</th>\n",
       "      <th>score_diff</th>\n",
       "      <th>t1_Ast</th>\n",
       "      <th>t1_AstR</th>\n",
       "      <th>t1_Blk</th>\n",
       "      <th>t1_DR</th>\n",
       "      <th>t1_DRP</th>\n",
       "      <th>t1_DefRtg</th>\n",
       "      <th>t1_FGA</th>\n",
       "      <th>t1_FGA3</th>\n",
       "      <th>t1_FGM</th>\n",
       "      <th>t1_FGM3</th>\n",
       "      <th>t1_FTA</th>\n",
       "      <th>t1_FTAR</th>\n",
       "      <th>t1_FTM</th>\n",
       "      <th>t1_Loc</th>\n",
       "      <th>t1_NetRtg</th>\n",
       "      <th>t1_OR</th>\n",
       "      <th>t1_ORP</th>\n",
       "      <th>t1_OffRtg</th>\n",
       "      <th>t1_PF</th>\n",
       "      <th>t1_PPP</th>\n",
       "      <th>t1_Poss</th>\n",
       "      <th>t1_RP</th>\n",
       "      <th>t1_Score</th>\n",
       "      <th>t1_Stl</th>\n",
       "      <th>t1_TO</th>\n",
       "      <th>t1_TOR</th>\n",
       "      <th>t1_TSP</th>\n",
       "      <th>t1_TeamID</th>\n",
       "      <th>t1_TeamName</th>\n",
       "      <th>t1_eFGP</th>\n",
       "      <th>t2_Ast</th>\n",
       "      <th>t2_AstR</th>\n",
       "      <th>t2_Blk</th>\n",
       "      <th>t2_DR</th>\n",
       "      <th>t2_DRP</th>\n",
       "      <th>t2_DefRtg</th>\n",
       "      <th>t2_FGA</th>\n",
       "      <th>t2_FGA3</th>\n",
       "      <th>t2_FGM</th>\n",
       "      <th>t2_FGM3</th>\n",
       "      <th>t2_FTA</th>\n",
       "      <th>t2_FTAR</th>\n",
       "      <th>t2_FTM</th>\n",
       "      <th>t2_NetRtg</th>\n",
       "      <th>t2_OR</th>\n",
       "      <th>t2_ORP</th>\n",
       "      <th>t2_OffRtg</th>\n",
       "      <th>t2_PF</th>\n",
       "      <th>t2_PPP</th>\n",
       "      <th>t2_Poss</th>\n",
       "      <th>t2_RP</th>\n",
       "      <th>t2_Score</th>\n",
       "      <th>t2_Stl</th>\n",
       "      <th>t2_TO</th>\n",
       "      <th>t2_TOR</th>\n",
       "      <th>t2_TSP</th>\n",
       "      <th>t2_TeamID</th>\n",
       "      <th>t2_TeamName</th>\n",
       "      <th>t2_eFGP</th>\n",
       "      <th>t1_Loc_H</th>\n",
       "      <th>t1_Loc_N</th>\n",
       "      <th>t1_WLK_rnk</th>\n",
       "      <th>t2_WLK_rnk</th>\n",
       "      <th>t1_WLK_rnk_diff</th>\n",
       "      <th>t1_DOK_rnk</th>\n",
       "      <th>t2_DOK_rnk</th>\n",
       "      <th>t1_DOK_rnk_diff</th>\n",
       "      <th>t1_POM_rnk</th>\n",
       "      <th>t2_POM_rnk</th>\n",
       "      <th>t1_POM_rnk_diff</th>\n",
       "      <th>t1_MOR_rnk</th>\n",
       "      <th>t2_MOR_rnk</th>\n",
       "      <th>t1_MOR_rnk_diff</th>\n",
       "      <th>t1_SAG_rnk</th>\n",
       "      <th>t2_SAG_rnk</th>\n",
       "      <th>t1_SAG_rnk_diff</th>\n",
       "      <th>t1_WIL_rnk</th>\n",
       "      <th>t2_WIL_rnk</th>\n",
       "      <th>t1_WIL_rnk_diff</th>\n",
       "      <th>t1_PGH_rnk</th>\n",
       "      <th>t2_PGH_rnk</th>\n",
       "      <th>t1_PGH_rnk_diff</th>\n",
       "      <th>t1_NOL_rnk</th>\n",
       "      <th>t2_NOL_rnk</th>\n",
       "      <th>t1_NOL_rnk_diff</th>\n",
       "      <th>t1_KPK_rnk</th>\n",
       "      <th>t2_KPK_rnk</th>\n",
       "      <th>t1_KPK_rnk_diff</th>\n",
       "      <th>t1_MAS_rnk</th>\n",
       "      <th>t2_MAS_rnk</th>\n",
       "      <th>t1_MAS_rnk_diff</th>\n",
       "    </tr>\n",
       "  </thead>\n",
       "  <tbody>\n",
       "    <tr>\n",
       "      <th>6247</th>\n",
       "      <td>13</td>\n",
       "      <td>0</td>\n",
       "      <td>1.0</td>\n",
       "      <td>2018</td>\n",
       "      <td>144.050</td>\n",
       "      <td>2017-11-12</td>\n",
       "      <td>16.0</td>\n",
       "      <td>18</td>\n",
       "      <td>17.992803</td>\n",
       "      <td>7</td>\n",
       "      <td>26</td>\n",
       "      <td>0.634146</td>\n",
       "      <td>39.569594</td>\n",
       "      <td>57</td>\n",
       "      <td>26</td>\n",
       "      <td>26</td>\n",
       "      <td>10</td>\n",
       "      <td>16</td>\n",
       "      <td>0.280702</td>\n",
       "      <td>11</td>\n",
       "      <td>H</td>\n",
       "      <td>0.0</td>\n",
       "      <td>11</td>\n",
       "      <td>0.333333</td>\n",
       "      <td>50.676848</td>\n",
       "      <td>20</td>\n",
       "      <td>1.013537</td>\n",
       "      <td>71.600</td>\n",
       "      <td>0.500000</td>\n",
       "      <td>73</td>\n",
       "      <td>9</td>\n",
       "      <td>18</td>\n",
       "      <td>11.261261</td>\n",
       "      <td>56.995628</td>\n",
       "      <td>1207</td>\n",
       "      <td>Georgetown</td>\n",
       "      <td>0.543860</td>\n",
       "      <td>11</td>\n",
       "      <td>11.261261</td>\n",
       "      <td>1</td>\n",
       "      <td>22</td>\n",
       "      <td>0.666667</td>\n",
       "      <td>50.676848</td>\n",
       "      <td>55</td>\n",
       "      <td>15</td>\n",
       "      <td>18</td>\n",
       "      <td>7</td>\n",
       "      <td>22</td>\n",
       "      <td>0.400000</td>\n",
       "      <td>14</td>\n",
       "      <td>-11.107254</td>\n",
       "      <td>15</td>\n",
       "      <td>0.365854</td>\n",
       "      <td>39.569594</td>\n",
       "      <td>19</td>\n",
       "      <td>0.791392</td>\n",
       "      <td>72.450</td>\n",
       "      <td>0.445946</td>\n",
       "      <td>57</td>\n",
       "      <td>4</td>\n",
       "      <td>22</td>\n",
       "      <td>11.261261</td>\n",
       "      <td>44.063080</td>\n",
       "      <td>1239</td>\n",
       "      <td>Jacksonville</td>\n",
       "      <td>0.390909</td>\n",
       "      <td>1</td>\n",
       "      <td>0</td>\n",
       "      <td>NaN</td>\n",
       "      <td>NaN</td>\n",
       "      <td>NaN</td>\n",
       "      <td>NaN</td>\n",
       "      <td>NaN</td>\n",
       "      <td>NaN</td>\n",
       "      <td>NaN</td>\n",
       "      <td>NaN</td>\n",
       "      <td>NaN</td>\n",
       "      <td>NaN</td>\n",
       "      <td>NaN</td>\n",
       "      <td>NaN</td>\n",
       "      <td>NaN</td>\n",
       "      <td>NaN</td>\n",
       "      <td>NaN</td>\n",
       "      <td>NaN</td>\n",
       "      <td>NaN</td>\n",
       "      <td>NaN</td>\n",
       "      <td>NaN</td>\n",
       "      <td>NaN</td>\n",
       "      <td>NaN</td>\n",
       "      <td>NaN</td>\n",
       "      <td>NaN</td>\n",
       "      <td>NaN</td>\n",
       "      <td>NaN</td>\n",
       "      <td>NaN</td>\n",
       "      <td>NaN</td>\n",
       "      <td>NaN</td>\n",
       "      <td>NaN</td>\n",
       "      <td>NaN</td>\n",
       "    </tr>\n",
       "    <tr>\n",
       "      <th>8906</th>\n",
       "      <td>16</td>\n",
       "      <td>0</td>\n",
       "      <td>1.0</td>\n",
       "      <td>2018</td>\n",
       "      <td>152.200</td>\n",
       "      <td>2017-11-15</td>\n",
       "      <td>34.0</td>\n",
       "      <td>25</td>\n",
       "      <td>21.626298</td>\n",
       "      <td>4</td>\n",
       "      <td>37</td>\n",
       "      <td>0.840909</td>\n",
       "      <td>44.678055</td>\n",
       "      <td>68</td>\n",
       "      <td>22</td>\n",
       "      <td>39</td>\n",
       "      <td>11</td>\n",
       "      <td>15</td>\n",
       "      <td>0.220588</td>\n",
       "      <td>13</td>\n",
       "      <td>H</td>\n",
       "      <td>0.0</td>\n",
       "      <td>14</td>\n",
       "      <td>0.466667</td>\n",
       "      <td>67.017083</td>\n",
       "      <td>17</td>\n",
       "      <td>1.340342</td>\n",
       "      <td>77.125</td>\n",
       "      <td>0.689189</td>\n",
       "      <td>102</td>\n",
       "      <td>5</td>\n",
       "      <td>16</td>\n",
       "      <td>14.662757</td>\n",
       "      <td>68.364611</td>\n",
       "      <td>1207</td>\n",
       "      <td>Georgetown</td>\n",
       "      <td>0.654412</td>\n",
       "      <td>14</td>\n",
       "      <td>14.662757</td>\n",
       "      <td>2</td>\n",
       "      <td>16</td>\n",
       "      <td>0.533333</td>\n",
       "      <td>67.017083</td>\n",
       "      <td>65</td>\n",
       "      <td>33</td>\n",
       "      <td>25</td>\n",
       "      <td>8</td>\n",
       "      <td>17</td>\n",
       "      <td>0.261538</td>\n",
       "      <td>10</td>\n",
       "      <td>-22.339028</td>\n",
       "      <td>7</td>\n",
       "      <td>0.159091</td>\n",
       "      <td>44.678055</td>\n",
       "      <td>17</td>\n",
       "      <td>0.893561</td>\n",
       "      <td>75.075</td>\n",
       "      <td>0.405405</td>\n",
       "      <td>68</td>\n",
       "      <td>7</td>\n",
       "      <td>9</td>\n",
       "      <td>14.662757</td>\n",
       "      <td>46.909492</td>\n",
       "      <td>1291</td>\n",
       "      <td>Mt St Mary's</td>\n",
       "      <td>0.446154</td>\n",
       "      <td>1</td>\n",
       "      <td>0</td>\n",
       "      <td>NaN</td>\n",
       "      <td>NaN</td>\n",
       "      <td>NaN</td>\n",
       "      <td>NaN</td>\n",
       "      <td>NaN</td>\n",
       "      <td>NaN</td>\n",
       "      <td>NaN</td>\n",
       "      <td>NaN</td>\n",
       "      <td>NaN</td>\n",
       "      <td>NaN</td>\n",
       "      <td>NaN</td>\n",
       "      <td>NaN</td>\n",
       "      <td>NaN</td>\n",
       "      <td>NaN</td>\n",
       "      <td>NaN</td>\n",
       "      <td>NaN</td>\n",
       "      <td>NaN</td>\n",
       "      <td>NaN</td>\n",
       "      <td>NaN</td>\n",
       "      <td>NaN</td>\n",
       "      <td>NaN</td>\n",
       "      <td>NaN</td>\n",
       "      <td>NaN</td>\n",
       "      <td>NaN</td>\n",
       "      <td>NaN</td>\n",
       "      <td>NaN</td>\n",
       "      <td>NaN</td>\n",
       "      <td>NaN</td>\n",
       "      <td>NaN</td>\n",
       "      <td>NaN</td>\n",
       "    </tr>\n",
       "    <tr>\n",
       "      <th>12654</th>\n",
       "      <td>19</td>\n",
       "      <td>0</td>\n",
       "      <td>1.0</td>\n",
       "      <td>2018</td>\n",
       "      <td>139.050</td>\n",
       "      <td>2017-11-18</td>\n",
       "      <td>26.0</td>\n",
       "      <td>24</td>\n",
       "      <td>23.319083</td>\n",
       "      <td>5</td>\n",
       "      <td>37</td>\n",
       "      <td>0.822222</td>\n",
       "      <td>40.992449</td>\n",
       "      <td>58</td>\n",
       "      <td>19</td>\n",
       "      <td>30</td>\n",
       "      <td>9</td>\n",
       "      <td>18</td>\n",
       "      <td>0.310345</td>\n",
       "      <td>14</td>\n",
       "      <td>H</td>\n",
       "      <td>0.0</td>\n",
       "      <td>11</td>\n",
       "      <td>0.379310</td>\n",
       "      <td>59.690759</td>\n",
       "      <td>17</td>\n",
       "      <td>1.193815</td>\n",
       "      <td>68.550</td>\n",
       "      <td>0.648649</td>\n",
       "      <td>83</td>\n",
       "      <td>2</td>\n",
       "      <td>13</td>\n",
       "      <td>13.363029</td>\n",
       "      <td>62.955097</td>\n",
       "      <td>1207</td>\n",
       "      <td>Georgetown</td>\n",
       "      <td>0.594828</td>\n",
       "      <td>12</td>\n",
       "      <td>13.363029</td>\n",
       "      <td>3</td>\n",
       "      <td>18</td>\n",
       "      <td>0.620690</td>\n",
       "      <td>59.690759</td>\n",
       "      <td>62</td>\n",
       "      <td>19</td>\n",
       "      <td>20</td>\n",
       "      <td>3</td>\n",
       "      <td>20</td>\n",
       "      <td>0.322581</td>\n",
       "      <td>14</td>\n",
       "      <td>-18.698310</td>\n",
       "      <td>8</td>\n",
       "      <td>0.177778</td>\n",
       "      <td>40.992449</td>\n",
       "      <td>15</td>\n",
       "      <td>0.819849</td>\n",
       "      <td>70.500</td>\n",
       "      <td>0.391892</td>\n",
       "      <td>57</td>\n",
       "      <td>6</td>\n",
       "      <td>7</td>\n",
       "      <td>13.363029</td>\n",
       "      <td>40.254237</td>\n",
       "      <td>1271</td>\n",
       "      <td>MD E Shore</td>\n",
       "      <td>0.346774</td>\n",
       "      <td>1</td>\n",
       "      <td>0</td>\n",
       "      <td>NaN</td>\n",
       "      <td>NaN</td>\n",
       "      <td>NaN</td>\n",
       "      <td>68.0</td>\n",
       "      <td>341.0</td>\n",
       "      <td>-273.0</td>\n",
       "      <td>80.0</td>\n",
       "      <td>328.0</td>\n",
       "      <td>-248.0</td>\n",
       "      <td>56.0</td>\n",
       "      <td>310.0</td>\n",
       "      <td>-254.0</td>\n",
       "      <td>76.0</td>\n",
       "      <td>338.0</td>\n",
       "      <td>-262.0</td>\n",
       "      <td>NaN</td>\n",
       "      <td>NaN</td>\n",
       "      <td>NaN</td>\n",
       "      <td>84.0</td>\n",
       "      <td>309.0</td>\n",
       "      <td>-225.0</td>\n",
       "      <td>NaN</td>\n",
       "      <td>NaN</td>\n",
       "      <td>NaN</td>\n",
       "      <td>NaN</td>\n",
       "      <td>NaN</td>\n",
       "      <td>NaN</td>\n",
       "      <td>63.0</td>\n",
       "      <td>328.0</td>\n",
       "      <td>-265.0</td>\n",
       "    </tr>\n",
       "    <tr>\n",
       "      <th>24153</th>\n",
       "      <td>26</td>\n",
       "      <td>0</td>\n",
       "      <td>1.0</td>\n",
       "      <td>2018</td>\n",
       "      <td>136.475</td>\n",
       "      <td>2017-11-25</td>\n",
       "      <td>6.0</td>\n",
       "      <td>15</td>\n",
       "      <td>16.404199</td>\n",
       "      <td>2</td>\n",
       "      <td>26</td>\n",
       "      <td>0.722222</td>\n",
       "      <td>55.687855</td>\n",
       "      <td>47</td>\n",
       "      <td>18</td>\n",
       "      <td>25</td>\n",
       "      <td>10</td>\n",
       "      <td>26</td>\n",
       "      <td>0.553191</td>\n",
       "      <td>22</td>\n",
       "      <td>A</td>\n",
       "      <td>0.0</td>\n",
       "      <td>9</td>\n",
       "      <td>0.346154</td>\n",
       "      <td>60.084265</td>\n",
       "      <td>15</td>\n",
       "      <td>1.201685</td>\n",
       "      <td>68.350</td>\n",
       "      <td>0.564516</td>\n",
       "      <td>82</td>\n",
       "      <td>5</td>\n",
       "      <td>18</td>\n",
       "      <td>13.392857</td>\n",
       "      <td>70.157426</td>\n",
       "      <td>1207</td>\n",
       "      <td>Georgetown</td>\n",
       "      <td>0.638298</td>\n",
       "      <td>12</td>\n",
       "      <td>13.392857</td>\n",
       "      <td>3</td>\n",
       "      <td>17</td>\n",
       "      <td>0.653846</td>\n",
       "      <td>60.084265</td>\n",
       "      <td>63</td>\n",
       "      <td>27</td>\n",
       "      <td>29</td>\n",
       "      <td>7</td>\n",
       "      <td>15</td>\n",
       "      <td>0.238095</td>\n",
       "      <td>11</td>\n",
       "      <td>-4.396410</td>\n",
       "      <td>10</td>\n",
       "      <td>0.277778</td>\n",
       "      <td>55.687855</td>\n",
       "      <td>18</td>\n",
       "      <td>1.113757</td>\n",
       "      <td>68.125</td>\n",
       "      <td>0.419355</td>\n",
       "      <td>76</td>\n",
       "      <td>9</td>\n",
       "      <td>8</td>\n",
       "      <td>13.392857</td>\n",
       "      <td>54.597701</td>\n",
       "      <td>1350</td>\n",
       "      <td>Richmond</td>\n",
       "      <td>0.515873</td>\n",
       "      <td>0</td>\n",
       "      <td>0</td>\n",
       "      <td>NaN</td>\n",
       "      <td>NaN</td>\n",
       "      <td>NaN</td>\n",
       "      <td>54.0</td>\n",
       "      <td>202.0</td>\n",
       "      <td>-148.0</td>\n",
       "      <td>74.0</td>\n",
       "      <td>170.0</td>\n",
       "      <td>-96.0</td>\n",
       "      <td>48.0</td>\n",
       "      <td>114.0</td>\n",
       "      <td>-66.0</td>\n",
       "      <td>63.0</td>\n",
       "      <td>186.0</td>\n",
       "      <td>-123.0</td>\n",
       "      <td>NaN</td>\n",
       "      <td>NaN</td>\n",
       "      <td>NaN</td>\n",
       "      <td>85.0</td>\n",
       "      <td>156.0</td>\n",
       "      <td>-71.0</td>\n",
       "      <td>NaN</td>\n",
       "      <td>NaN</td>\n",
       "      <td>NaN</td>\n",
       "      <td>NaN</td>\n",
       "      <td>NaN</td>\n",
       "      <td>NaN</td>\n",
       "      <td>59.0</td>\n",
       "      <td>177.0</td>\n",
       "      <td>-118.0</td>\n",
       "    </tr>\n",
       "    <tr>\n",
       "      <th>28306</th>\n",
       "      <td>29</td>\n",
       "      <td>0</td>\n",
       "      <td>1.0</td>\n",
       "      <td>2018</td>\n",
       "      <td>135.525</td>\n",
       "      <td>2017-11-28</td>\n",
       "      <td>21.0</td>\n",
       "      <td>13</td>\n",
       "      <td>14.167393</td>\n",
       "      <td>4</td>\n",
       "      <td>23</td>\n",
       "      <td>0.621622</td>\n",
       "      <td>40.582918</td>\n",
       "      <td>54</td>\n",
       "      <td>18</td>\n",
       "      <td>25</td>\n",
       "      <td>4</td>\n",
       "      <td>29</td>\n",
       "      <td>0.537037</td>\n",
       "      <td>22</td>\n",
       "      <td>H</td>\n",
       "      <td>0.0</td>\n",
       "      <td>13</td>\n",
       "      <td>0.382353</td>\n",
       "      <td>56.078214</td>\n",
       "      <td>15</td>\n",
       "      <td>1.121564</td>\n",
       "      <td>66.775</td>\n",
       "      <td>0.507042</td>\n",
       "      <td>76</td>\n",
       "      <td>8</td>\n",
       "      <td>12</td>\n",
       "      <td>8.849558</td>\n",
       "      <td>56.920312</td>\n",
       "      <td>1207</td>\n",
       "      <td>Georgetown</td>\n",
       "      <td>0.500000</td>\n",
       "      <td>8</td>\n",
       "      <td>8.849558</td>\n",
       "      <td>5</td>\n",
       "      <td>21</td>\n",
       "      <td>0.617647</td>\n",
       "      <td>56.078214</td>\n",
       "      <td>60</td>\n",
       "      <td>23</td>\n",
       "      <td>22</td>\n",
       "      <td>4</td>\n",
       "      <td>10</td>\n",
       "      <td>0.166667</td>\n",
       "      <td>7</td>\n",
       "      <td>-15.495296</td>\n",
       "      <td>14</td>\n",
       "      <td>0.378378</td>\n",
       "      <td>40.582918</td>\n",
       "      <td>20</td>\n",
       "      <td>0.811658</td>\n",
       "      <td>68.750</td>\n",
       "      <td>0.478873</td>\n",
       "      <td>55</td>\n",
       "      <td>5</td>\n",
       "      <td>18</td>\n",
       "      <td>8.849558</td>\n",
       "      <td>42.701863</td>\n",
       "      <td>1263</td>\n",
       "      <td>Maine</td>\n",
       "      <td>0.400000</td>\n",
       "      <td>1</td>\n",
       "      <td>0</td>\n",
       "      <td>NaN</td>\n",
       "      <td>NaN</td>\n",
       "      <td>NaN</td>\n",
       "      <td>54.0</td>\n",
       "      <td>340.0</td>\n",
       "      <td>-286.0</td>\n",
       "      <td>74.0</td>\n",
       "      <td>337.0</td>\n",
       "      <td>-263.0</td>\n",
       "      <td>48.0</td>\n",
       "      <td>326.0</td>\n",
       "      <td>-278.0</td>\n",
       "      <td>63.0</td>\n",
       "      <td>341.0</td>\n",
       "      <td>-278.0</td>\n",
       "      <td>NaN</td>\n",
       "      <td>NaN</td>\n",
       "      <td>NaN</td>\n",
       "      <td>85.0</td>\n",
       "      <td>344.0</td>\n",
       "      <td>-259.0</td>\n",
       "      <td>NaN</td>\n",
       "      <td>NaN</td>\n",
       "      <td>NaN</td>\n",
       "      <td>NaN</td>\n",
       "      <td>NaN</td>\n",
       "      <td>NaN</td>\n",
       "      <td>59.0</td>\n",
       "      <td>341.0</td>\n",
       "      <td>-282.0</td>\n",
       "    </tr>\n",
       "  </tbody>\n",
       "</table>"
      ],
      "text/plain": [
       "<IPython.core.display.HTML object>"
      ]
     },
     "execution_count": 20,
     "metadata": {},
     "output_type": "execute_result"
    }
   ],
   "source": [
    "HTML(train[(train['Season']==2018) & (train['t1_TeamID']==1207)].sort_values('DayNum').head().to_html())"
   ]
  },
  {
   "cell_type": "code",
   "execution_count": null,
   "metadata": {},
   "outputs": [],
   "source": []
  },
  {
   "cell_type": "markdown",
   "metadata": {},
   "source": [
    "---"
   ]
  },
  {
   "cell_type": "markdown",
   "metadata": {},
   "source": [
    "## DEV"
   ]
  },
  {
   "cell_type": "markdown",
   "metadata": {},
   "source": [
    "#### Add rolling features - working.."
   ]
  },
  {
   "cell_type": "code",
   "execution_count": null,
   "metadata": {},
   "outputs": [],
   "source": [
    "def create_rolling_avg_feature(df, field_to_agg, num_games=5):\n",
    "    df = df.sort_values(['t1_TeamID', 'Season','DayNum']).reset_index()\n",
    "    col_name = field_to_agg + \"_rolling_avg_\" + str(num_games) + \"gm\"\n",
    "    df[col_name] = df.groupby(['Season', 't1_TeamID'])[[field_to_agg]].shift(1) \\\n",
    "        .rolling(window=num_games, min_periods=num_games).mean()\n",
    "    return df"
   ]
  },
  {
   "cell_type": "code",
   "execution_count": 92,
   "metadata": {},
   "outputs": [
    {
     "ename": "ValueError",
     "evalue": "cannot insert level_0, already exists",
     "output_type": "error",
     "traceback": [
      "\u001b[0;31m---------------------------------------------------------------------------\u001b[0m",
      "\u001b[0;31mValueError\u001b[0m                                Traceback (most recent call last)",
      "\u001b[0;32m<ipython-input-92-83571e8b0730>\u001b[0m in \u001b[0;36m<module>\u001b[0;34m()\u001b[0m\n\u001b[0;32m----> 1\u001b[0;31m \u001b[0mtrain\u001b[0m \u001b[0;34m=\u001b[0m \u001b[0mtrain\u001b[0m\u001b[0;34m.\u001b[0m\u001b[0msort_values\u001b[0m\u001b[0;34m(\u001b[0m\u001b[0;34m[\u001b[0m\u001b[0;34m't1_TeamID'\u001b[0m\u001b[0;34m,\u001b[0m \u001b[0;34m'Season'\u001b[0m\u001b[0;34m,\u001b[0m\u001b[0;34m'DayNum'\u001b[0m\u001b[0;34m]\u001b[0m\u001b[0;34m)\u001b[0m\u001b[0;34m.\u001b[0m\u001b[0mreset_index\u001b[0m\u001b[0;34m(\u001b[0m\u001b[0;34m)\u001b[0m\u001b[0;34m\u001b[0m\u001b[0m\n\u001b[0m",
      "\u001b[0;32m/anaconda3/lib/python3.6/site-packages/pandas/core/frame.py\u001b[0m in \u001b[0;36mreset_index\u001b[0;34m(self, level, drop, inplace, col_level, col_fill)\u001b[0m\n\u001b[1;32m   3377\u001b[0m                 \u001b[0;31m# to ndarray and maybe infer different dtype\u001b[0m\u001b[0;34m\u001b[0m\u001b[0;34m\u001b[0m\u001b[0m\n\u001b[1;32m   3378\u001b[0m                 \u001b[0mlevel_values\u001b[0m \u001b[0;34m=\u001b[0m \u001b[0m_maybe_casted_values\u001b[0m\u001b[0;34m(\u001b[0m\u001b[0mlev\u001b[0m\u001b[0;34m,\u001b[0m \u001b[0mlab\u001b[0m\u001b[0;34m)\u001b[0m\u001b[0;34m\u001b[0m\u001b[0m\n\u001b[0;32m-> 3379\u001b[0;31m                 \u001b[0mnew_obj\u001b[0m\u001b[0;34m.\u001b[0m\u001b[0minsert\u001b[0m\u001b[0;34m(\u001b[0m\u001b[0;36m0\u001b[0m\u001b[0;34m,\u001b[0m \u001b[0mname\u001b[0m\u001b[0;34m,\u001b[0m \u001b[0mlevel_values\u001b[0m\u001b[0;34m)\u001b[0m\u001b[0;34m\u001b[0m\u001b[0m\n\u001b[0m\u001b[1;32m   3380\u001b[0m \u001b[0;34m\u001b[0m\u001b[0m\n\u001b[1;32m   3381\u001b[0m         \u001b[0mnew_obj\u001b[0m\u001b[0;34m.\u001b[0m\u001b[0mindex\u001b[0m \u001b[0;34m=\u001b[0m \u001b[0mnew_index\u001b[0m\u001b[0;34m\u001b[0m\u001b[0m\n",
      "\u001b[0;32m/anaconda3/lib/python3.6/site-packages/pandas/core/frame.py\u001b[0m in \u001b[0;36minsert\u001b[0;34m(self, loc, column, value, allow_duplicates)\u001b[0m\n\u001b[1;32m   2611\u001b[0m         \u001b[0mvalue\u001b[0m \u001b[0;34m=\u001b[0m \u001b[0mself\u001b[0m\u001b[0;34m.\u001b[0m\u001b[0m_sanitize_column\u001b[0m\u001b[0;34m(\u001b[0m\u001b[0mcolumn\u001b[0m\u001b[0;34m,\u001b[0m \u001b[0mvalue\u001b[0m\u001b[0;34m,\u001b[0m \u001b[0mbroadcast\u001b[0m\u001b[0;34m=\u001b[0m\u001b[0;32mFalse\u001b[0m\u001b[0;34m)\u001b[0m\u001b[0;34m\u001b[0m\u001b[0m\n\u001b[1;32m   2612\u001b[0m         self._data.insert(loc, column, value,\n\u001b[0;32m-> 2613\u001b[0;31m                           allow_duplicates=allow_duplicates)\n\u001b[0m\u001b[1;32m   2614\u001b[0m \u001b[0;34m\u001b[0m\u001b[0m\n\u001b[1;32m   2615\u001b[0m     \u001b[0;32mdef\u001b[0m \u001b[0massign\u001b[0m\u001b[0;34m(\u001b[0m\u001b[0mself\u001b[0m\u001b[0;34m,\u001b[0m \u001b[0;34m**\u001b[0m\u001b[0mkwargs\u001b[0m\u001b[0;34m)\u001b[0m\u001b[0;34m:\u001b[0m\u001b[0;34m\u001b[0m\u001b[0m\n",
      "\u001b[0;32m/anaconda3/lib/python3.6/site-packages/pandas/core/internals.py\u001b[0m in \u001b[0;36minsert\u001b[0;34m(self, loc, item, value, allow_duplicates)\u001b[0m\n\u001b[1;32m   4061\u001b[0m         \u001b[0;32mif\u001b[0m \u001b[0;32mnot\u001b[0m \u001b[0mallow_duplicates\u001b[0m \u001b[0;32mand\u001b[0m \u001b[0mitem\u001b[0m \u001b[0;32min\u001b[0m \u001b[0mself\u001b[0m\u001b[0;34m.\u001b[0m\u001b[0mitems\u001b[0m\u001b[0;34m:\u001b[0m\u001b[0;34m\u001b[0m\u001b[0m\n\u001b[1;32m   4062\u001b[0m             \u001b[0;31m# Should this be a different kind of error??\u001b[0m\u001b[0;34m\u001b[0m\u001b[0;34m\u001b[0m\u001b[0m\n\u001b[0;32m-> 4063\u001b[0;31m             \u001b[0;32mraise\u001b[0m \u001b[0mValueError\u001b[0m\u001b[0;34m(\u001b[0m\u001b[0;34m'cannot insert {}, already exists'\u001b[0m\u001b[0;34m.\u001b[0m\u001b[0mformat\u001b[0m\u001b[0;34m(\u001b[0m\u001b[0mitem\u001b[0m\u001b[0;34m)\u001b[0m\u001b[0;34m)\u001b[0m\u001b[0;34m\u001b[0m\u001b[0m\n\u001b[0m\u001b[1;32m   4064\u001b[0m \u001b[0;34m\u001b[0m\u001b[0m\n\u001b[1;32m   4065\u001b[0m         \u001b[0;32mif\u001b[0m \u001b[0;32mnot\u001b[0m \u001b[0misinstance\u001b[0m\u001b[0;34m(\u001b[0m\u001b[0mloc\u001b[0m\u001b[0;34m,\u001b[0m \u001b[0mint\u001b[0m\u001b[0;34m)\u001b[0m\u001b[0;34m:\u001b[0m\u001b[0;34m\u001b[0m\u001b[0m\n",
      "\u001b[0;31mValueError\u001b[0m: cannot insert level_0, already exists"
     ]
    }
   ],
   "source": [
    "train = train.sort_values(['t1_TeamID', 'Season','DayNum']).reset_index()"
   ]
  },
  {
   "cell_type": "code",
   "execution_count": 68,
   "metadata": {},
   "outputs": [],
   "source": [
    "train['t1_offPPP_rolling_avg_5gm'] = train.groupby(['Season', 't1_TeamID'])[['t1_PPP']].shift(1) \\\n",
    "        .rolling(window=5, min_periods=5).mean()"
   ]
  },
  {
   "cell_type": "code",
   "execution_count": 67,
   "metadata": {},
   "outputs": [],
   "source": [
    "train['t1_defPPP_rolling_avg_5gm'] = train.groupby(['Season', 't1_TeamID'])[['t2_PPP']].shift(1) \\\n",
    "        .rolling(window=5, min_periods=5).mean()"
   ]
  },
  {
   "cell_type": "code",
   "execution_count": 95,
   "metadata": {},
   "outputs": [],
   "source": [
    "train['t1_offPPP_ssn_avg'] = train.groupby(['Season', 't1_TeamID'])[['t1_PPP']].shift(1) \\\n",
    "        .rolling(window=20, min_periods=15).mean()"
   ]
  },
  {
   "cell_type": "code",
   "execution_count": null,
   "metadata": {},
   "outputs": [],
   "source": []
  },
  {
   "cell_type": "code",
   "execution_count": 14,
   "metadata": {},
   "outputs": [],
   "source": [
    "train = create_rolling_avg_feature(train, \"t1_PPP\", num_games=5)\n",
    "train = create_rolling_avg_feature(train, \"t2_PPP\", num_games=5)"
   ]
  },
  {
   "cell_type": "code",
   "execution_count": 70,
   "metadata": {},
   "outputs": [],
   "source": [
    "num_games = 5\n",
    "#train = train.sort_values(['t1_TeamID', 'Season','DayNum']).reset_index()\n",
    "agg_funcs = {'t1_PPP':['mean', 'max'], 't2_PPP':['mean']}\n",
    "train_metrics_agg = train.groupby(['Season', 't1_TeamID']).shift(1) \\\n",
    "    .rolling(window=num_games, min_periods=num_games).agg(agg_funcs)"
   ]
  },
  {
   "cell_type": "code",
   "execution_count": 74,
   "metadata": {},
   "outputs": [],
   "source": [
    "train_metrics_agg.columns = ['t1_PPP_mean', 't1_PPP_max', 't2_PPP_mean']\n",
    "train_metrics_agg.shape"
   ]
  },
  {
   "cell_type": "code",
   "execution_count": 75,
   "metadata": {},
   "outputs": [
    {
     "data": {
      "text/html": [
       "<div>\n",
       "<style scoped>\n",
       "    .dataframe tbody tr th:only-of-type {\n",
       "        vertical-align: middle;\n",
       "    }\n",
       "\n",
       "    .dataframe tbody tr th {\n",
       "        vertical-align: top;\n",
       "    }\n",
       "\n",
       "    .dataframe thead th {\n",
       "        text-align: right;\n",
       "    }\n",
       "</style>\n",
       "<table border=\"1\" class=\"dataframe\">\n",
       "  <thead>\n",
       "    <tr style=\"text-align: right;\">\n",
       "      <th></th>\n",
       "      <th>t1_PPP_mean</th>\n",
       "      <th>t1_PPP_max</th>\n",
       "      <th>t2_PPP_mean</th>\n",
       "    </tr>\n",
       "  </thead>\n",
       "  <tbody>\n",
       "    <tr>\n",
       "      <th>0</th>\n",
       "      <td>NaN</td>\n",
       "      <td>NaN</td>\n",
       "      <td>NaN</td>\n",
       "    </tr>\n",
       "    <tr>\n",
       "      <th>1</th>\n",
       "      <td>NaN</td>\n",
       "      <td>NaN</td>\n",
       "      <td>NaN</td>\n",
       "    </tr>\n",
       "    <tr>\n",
       "      <th>2</th>\n",
       "      <td>NaN</td>\n",
       "      <td>NaN</td>\n",
       "      <td>NaN</td>\n",
       "    </tr>\n",
       "    <tr>\n",
       "      <th>3</th>\n",
       "      <td>NaN</td>\n",
       "      <td>NaN</td>\n",
       "      <td>NaN</td>\n",
       "    </tr>\n",
       "    <tr>\n",
       "      <th>4</th>\n",
       "      <td>NaN</td>\n",
       "      <td>NaN</td>\n",
       "      <td>NaN</td>\n",
       "    </tr>\n",
       "    <tr>\n",
       "      <th>5</th>\n",
       "      <td>0.806336</td>\n",
       "      <td>1.004315</td>\n",
       "      <td>1.218981</td>\n",
       "    </tr>\n",
       "    <tr>\n",
       "      <th>6</th>\n",
       "      <td>0.804361</td>\n",
       "      <td>1.004315</td>\n",
       "      <td>1.250998</td>\n",
       "    </tr>\n",
       "    <tr>\n",
       "      <th>7</th>\n",
       "      <td>0.807975</td>\n",
       "      <td>1.004315</td>\n",
       "      <td>1.253397</td>\n",
       "    </tr>\n",
       "    <tr>\n",
       "      <th>8</th>\n",
       "      <td>0.879251</td>\n",
       "      <td>1.043478</td>\n",
       "      <td>1.268299</td>\n",
       "    </tr>\n",
       "    <tr>\n",
       "      <th>9</th>\n",
       "      <td>0.947804</td>\n",
       "      <td>1.043478</td>\n",
       "      <td>1.179179</td>\n",
       "    </tr>\n",
       "  </tbody>\n",
       "</table>\n",
       "</div>"
      ],
      "text/plain": [
       "   t1_PPP_mean  t1_PPP_max  t2_PPP_mean\n",
       "0          NaN         NaN          NaN\n",
       "1          NaN         NaN          NaN\n",
       "2          NaN         NaN          NaN\n",
       "3          NaN         NaN          NaN\n",
       "4          NaN         NaN          NaN\n",
       "5     0.806336    1.004315     1.218981\n",
       "6     0.804361    1.004315     1.250998\n",
       "7     0.807975    1.004315     1.253397\n",
       "8     0.879251    1.043478     1.268299\n",
       "9     0.947804    1.043478     1.179179"
      ]
     },
     "execution_count": 75,
     "metadata": {},
     "output_type": "execute_result"
    }
   ],
   "source": [
    "train_metrics_agg.head(10)"
   ]
  },
  {
   "cell_type": "code",
   "execution_count": null,
   "metadata": {},
   "outputs": [],
   "source": []
  },
  {
   "cell_type": "code",
   "execution_count": null,
   "metadata": {},
   "outputs": [],
   "source": []
  },
  {
   "cell_type": "markdown",
   "metadata": {},
   "source": [
    "### Loop through train to create features"
   ]
  },
  {
   "cell_type": "markdown",
   "metadata": {},
   "source": [
    "##### Dev process for one season"
   ]
  },
  {
   "cell_type": "code",
   "execution_count": 120,
   "metadata": {},
   "outputs": [
    {
     "name": "stdout",
     "output_type": "stream",
     "text": [
      "1000\n",
      "2000\n",
      "3000\n",
      "4000\n",
      "5000\n",
      "6000\n",
      "7000\n",
      "8000\n",
      "9000\n",
      "10000\n",
      "Processing took 4 seconds\n"
     ]
    }
   ],
   "source": [
    "start_time = time.time()\n",
    "\n",
    "# create 2017 df for dev\n",
    "train_17 = train[train['Season']==2017].copy().reset_index(drop=True).sort_values(['DayNum'])\n",
    "train_17['t1_off_ssn_avg_PPP'] = 0\n",
    "\n",
    "# create team_metrics_dict to track ongoing metrics\n",
    "team_metrics_dict = {tm_id: {'gp': 0, 't1_off_ssn_avg_PPP': 0} for tm_id in train['t1_TeamID'].unique()}\n",
    "\n",
    "# loop through each record in train_17\n",
    "for i, row in enumerate(train_17[['t1_TeamID', 't1_PPP']].itertuples(index=False), 1):\n",
    "\n",
    "    if i % 1000 == 0 :\n",
    "        print(i)\n",
    "\n",
    "    t1 = row[0]\n",
    "    t1_game_PPP = row[1]\n",
    "    t1_gp = team_metrics_dict.get(t1).get('gp')\n",
    "    t1_ssn_avg_PPP = team_metrics_dict.get(t1).get('t1_off_ssn_avg_PPP')\n",
    "    \n",
    "    # update train_17\n",
    "    train_17.loc[i, 't1_off_ssn_avg_PPP'] = t1_ssn_avg_PPP\n",
    "    \n",
    "    # update team_metrics_dict\n",
    "    team_metrics_dict[t1]['t1_off_ssn_avg_PPP'] = ((t1_ssn_avg_PPP * t1_gp) + t1_game_PPP)/ (t1_gp + 1.0)\n",
    "    team_metrics_dict[t1]['gp'] += 1\n",
    "\n",
    "# write out final season_totals for 2018 to use for test\n",
    "\n",
    "\n",
    "print(\"Processing took \" + str(int(round(time.time() - start_time))) + \" seconds\")"
   ]
  },
  {
   "cell_type": "code",
   "execution_count": 118,
   "metadata": {},
   "outputs": [
    {
     "name": "stdout",
     "output_type": "stream",
     "text": [
      "(351, 99)\n",
      "(10573, 99)\n",
      "0.9955991253743911\n"
     ]
    }
   ],
   "source": [
    "print(train_17[train_17['t1_off_ssn_avg_PPP']==0].shape)\n",
    "print(train_17[train_17['t1_off_ssn_avg_PPP']>0].shape)\n",
    "print(train_17['t1_off_ssn_avg_PPP'].mean())"
   ]
  },
  {
   "cell_type": "code",
   "execution_count": null,
   "metadata": {},
   "outputs": [],
   "source": []
  },
  {
   "cell_type": "markdown",
   "metadata": {},
   "source": [
    "#### Loop through all seasons"
   ]
  },
  {
   "cell_type": "code",
   "execution_count": 136,
   "metadata": {},
   "outputs": [
    {
     "name": "stdout",
     "output_type": "stream",
     "text": [
      "2008\n",
      "2013\n",
      "2014\n",
      "2011\n",
      "2012\n",
      "2010\n",
      "2009\n",
      "2006\n",
      "2007\n",
      "2005\n",
      "2003\n",
      "2004\n",
      "2017\n",
      "2016\n",
      "2018\n",
      "2015\n",
      "(166044, 100)\n",
      "Processing took 68 seconds\n"
     ]
    }
   ],
   "source": [
    "start_time = time.time()\n",
    "all_seasons_train = pd.DataFrame()\n",
    "for season_yr in train['Season'].unique():\n",
    "    print(season_yr)\n",
    "    \n",
    "    # create subset train df of single season\n",
    "    ssn_train = train[train['Season']==season_yr].copy().reset_index(drop=True).sort_values(['DayNum'])\n",
    "    ssn_train['t1_ssn_avg_off_PPP'] = 0\n",
    "    ssn_train['t1_ssn_avg_def_PPP'] = 0\n",
    "\n",
    "    # create team_metrics_dict to track ongoing metrics\n",
    "    team_metrics_dict = {tm_id: {'gp': 0, \n",
    "                                 't1_ssn_avg_off_PPP': 0,\n",
    "                                 't1_ssn_avg_def_PPP':0} for tm_id in train['t1_TeamID'].unique()}\n",
    "\n",
    "    # loop through each record in ssn_train\n",
    "    for i, row in enumerate(ssn_train[['t1_TeamID', 't1_PPP', 't2_PPP']].itertuples(index=False)):\n",
    "\n",
    "        t1 = row[0]\n",
    "        t1_off_PPP = row[1]\n",
    "        t1_def_PPP = row[2]\n",
    "        t1_gp = team_metrics_dict.get(t1).get('gp')\n",
    "        t1_ssn_avg_off_PPP = team_metrics_dict.get(t1).get('t1_ssn_avg_off_PPP')\n",
    "        t1_ssn_avg_def_PPP = team_metrics_dict.get(t1).get('t1_ssn_avg_def_PPP')\n",
    "\n",
    "        # update train_17\n",
    "        ssn_train.loc[i, 't1_ssn_avg_off_PPP'] = t1_ssn_avg_PPP\n",
    "\n",
    "        # update team_metrics_dict\n",
    "        team_metrics_dict[t1]['t1_ssn_avg_off_PPP'] = ((t1_ssn_avg_off_PPP * t1_gp) + t1_off_PPP)/ (t1_gp + 1.0)\n",
    "        team_metrics_dict[t1]['t1_ssn_avg_def_PPP'] = ((t1_ssn_avg_def_PPP * t1_gp) + t1_def_PPP)/ (t1_gp + 1.0)\n",
    "        team_metrics_dict[t1]['gp'] += 1\n",
    "    \n",
    "    # combine season train back into full training data set\n",
    "    all_seasons_train = pd.concat([all_seasons_train, ssn_train])\n",
    "\n",
    "    # write out final season_totals for 2018 to use for test\n",
    "    if season_yr==2018:\n",
    "        team_metrics_df_18 = pd.DataFrame.from_dict(team_metrics_dict, orient='index').reset_index().rename(columns={\"index\":\"t1_TeamID\"})\n",
    "        team_metrics_df_18.to_csv(\"team_metrics_df_18.csv\")\n",
    "\n",
    "\n",
    "print(all_seasons_train.shape)\n",
    "print(\"Processing took \" + str(int(round(time.time() - start_time))) + \" seconds\")"
   ]
  },
  {
   "cell_type": "code",
   "execution_count": 152,
   "metadata": {},
   "outputs": [],
   "source": []
  },
  {
   "cell_type": "code",
   "execution_count": null,
   "metadata": {},
   "outputs": [],
   "source": []
  },
  {
   "cell_type": "code",
   "execution_count": null,
   "metadata": {},
   "outputs": [],
   "source": []
  },
  {
   "cell_type": "code",
   "execution_count": null,
   "metadata": {},
   "outputs": [],
   "source": []
  },
  {
   "cell_type": "code",
   "execution_count": null,
   "metadata": {},
   "outputs": [],
   "source": []
  },
  {
   "cell_type": "markdown",
   "metadata": {},
   "source": [
    "---"
   ]
  },
  {
   "cell_type": "markdown",
   "metadata": {},
   "source": [
    "# Modeling"
   ]
  },
  {
   "cell_type": "markdown",
   "metadata": {},
   "source": [
    "### Create modeling df"
   ]
  },
  {
   "cell_type": "code",
   "execution_count": 159,
   "metadata": {},
   "outputs": [],
   "source": [
    "all_modeling_fields = [\"t1_MAS_rnk_diff\",\n",
    "                       \"t1_WLK_rnk_diff\",\n",
    "                       \"t1_DOK_rnk_diff\", \n",
    "                       \"t1_POM_rnk_diff\", \n",
    "                       \"t1_MOR_rnk_diff\", \n",
    "                       \"t1_SAG_rnk_diff\", \n",
    "                       \"t1_ssn_avg_off_PPP\", \"t1_ssn_avg_def_PPP\",\n",
    "                       \"t1_Loc_N\", \n",
    "                       \"t1_Loc_H\"]"
   ]
  },
  {
   "cell_type": "code",
   "execution_count": 160,
   "metadata": {},
   "outputs": [
    {
     "name": "stdout",
     "output_type": "stream",
     "text": [
      "(166044, 100)\n",
      "(40090, 100)\n"
     ]
    }
   ],
   "source": [
    "model_train_df = shuffle(all_seasons_train.copy())\n",
    "print(model_train_df.shape)\n",
    "model_train_df = model_train_df[model_train_df['DayNum'] > 80]\n",
    "model_train_df = model_train_df[model_train_df['DayNum'] < 130]\n",
    "model_train_df = model_train_df.dropna(subset=all_modeling_fields)\n",
    "print(model_train_df.shape)"
   ]
  },
  {
   "cell_type": "markdown",
   "metadata": {},
   "source": [
    "### Create test games df"
   ]
  },
  {
   "cell_type": "code",
   "execution_count": 162,
   "metadata": {},
   "outputs": [
    {
     "name": "stdout",
     "output_type": "stream",
     "text": [
      "(1572, 100)\n"
     ]
    }
   ],
   "source": [
    "model_test_df = all_seasons_train.copy()\n",
    "model_test_df = model_test_df[model_test_df['DayNum'] > 130]\n",
    "model_test_df = model_test_df.dropna(subset=all_modeling_fields)\n",
    "print(model_test_df.shape)"
   ]
  },
  {
   "cell_type": "code",
   "execution_count": null,
   "metadata": {},
   "outputs": [],
   "source": []
  },
  {
   "cell_type": "markdown",
   "metadata": {},
   "source": [
    "Predict 0/1 winner"
   ]
  },
  {
   "cell_type": "markdown",
   "metadata": {},
   "source": [
    "### Logistic"
   ]
  },
  {
   "cell_type": "code",
   "execution_count": 165,
   "metadata": {},
   "outputs": [],
   "source": [
    "logistic = linear_model.LogisticRegression()"
   ]
  },
  {
   "cell_type": "code",
   "execution_count": 166,
   "metadata": {},
   "outputs": [],
   "source": [
    "#logistic_model_fields = ['t1_SAG_rnk', 't2_SAG_rnk', \"t1_MAS_rnk\", \"t2_MAS_rnk\", \"t1_Loc_H\"]\n",
    "#logistic_model_fields = ['t1_SAG_rnk_diff', \"t1_MAS_rnk\", \"t2_MAS_rnk\", \"t1_Loc_H\"]\n",
    "#logistic_model_fields = ['t1_SAG_rnk', 't2_SAG_rnk', \"t1_MAS_rnk\", \"t2_MAS_rnk\"]\n",
    "#logistic_model_fields = ['t1_SAG_rnk_diff', \"t1_MAS_rnk\", \"t2_MAS_rnk\"]\n",
    "logistic_model_fields = [\"t1_ssn_avg_off_PPP\", \"t1_ssn_avg_def_PPP\",'t1_SAG_rnk_diff', \"t1_MAS_rnk\", \"t2_MAS_rnk\"]"
   ]
  },
  {
   "cell_type": "code",
   "execution_count": 167,
   "metadata": {},
   "outputs": [
    {
     "data": {
      "text/plain": [
       "LogisticRegression(C=1.0, class_weight=None, dual=False, fit_intercept=True,\n",
       "          intercept_scaling=1, max_iter=100, multi_class='ovr', n_jobs=1,\n",
       "          penalty='l2', random_state=None, solver='liblinear', tol=0.0001,\n",
       "          verbose=0, warm_start=False)"
      ]
     },
     "execution_count": 167,
     "metadata": {},
     "output_type": "execute_result"
    }
   ],
   "source": [
    "# Fit model\n",
    "logistic.fit(model_train_df[logistic_model_fields], \n",
    "             model_train_df['Result'])"
   ]
  },
  {
   "cell_type": "code",
   "execution_count": 168,
   "metadata": {},
   "outputs": [
    {
     "name": "stdout",
     "output_type": "stream",
     "text": [
      "0.5968015356299664\n"
     ]
    }
   ],
   "source": [
    "# Create preds\n",
    "preds = logistic.predict_proba(model_test_df[logistic_model_fields])[:, 1]\n",
    "print(calc_logloss(preds, model_test_df['Result']))"
   ]
  },
  {
   "cell_type": "code",
   "execution_count": null,
   "metadata": {},
   "outputs": [],
   "source": []
  },
  {
   "cell_type": "markdown",
   "metadata": {},
   "source": [
    "### GBM"
   ]
  },
  {
   "cell_type": "code",
   "execution_count": 169,
   "metadata": {},
   "outputs": [],
   "source": [
    "gbm_model_fields = [\n",
    "    #\"t1_SAG_rnk\", \"t2_SAG_rnk\", \n",
    "    #\"t1_MAS_rnk\", \"t2_MAS_rnk\", \n",
    "    \"t1_MAS_rnk_diff\",\n",
    "    \"t1_WLK_rnk_diff\",\n",
    "    \"t1_DOK_rnk_diff\",\n",
    "    \"t1_POM_rnk_diff\",\n",
    "    \"t1_MOR_rnk_diff\",\n",
    "    \"t1_SAG_rnk_diff\",\n",
    "   \"t1_ssn_avg_off_PPP\", \"t1_ssn_avg_def_PPP\",\n",
    "    \"t1_Loc_H\",\n",
    "    \"t1_Loc_N\"\n",
    "]"
   ]
  },
  {
   "cell_type": "code",
   "execution_count": 182,
   "metadata": {},
   "outputs": [],
   "source": [
    "gbm = GradientBoostingClassifier(n_estimators=60, \n",
    "                                max_depth=4, \n",
    "                                 max_features=3,\n",
    "                                learning_rate=0.10)"
   ]
  },
  {
   "cell_type": "code",
   "execution_count": 183,
   "metadata": {},
   "outputs": [
    {
     "data": {
      "text/plain": [
       "GradientBoostingClassifier(criterion='friedman_mse', init=None,\n",
       "              learning_rate=0.1, loss='deviance', max_depth=4,\n",
       "              max_features=3, max_leaf_nodes=None,\n",
       "              min_impurity_decrease=0.0, min_impurity_split=None,\n",
       "              min_samples_leaf=1, min_samples_split=2,\n",
       "              min_weight_fraction_leaf=0.0, n_estimators=60,\n",
       "              presort='auto', random_state=None, subsample=1.0, verbose=0,\n",
       "              warm_start=False)"
      ]
     },
     "execution_count": 183,
     "metadata": {},
     "output_type": "execute_result"
    }
   ],
   "source": [
    "gbm.fit(model_train_df[gbm_model_fields], model_train_df['Result'])"
   ]
  },
  {
   "cell_type": "code",
   "execution_count": 184,
   "metadata": {},
   "outputs": [
    {
     "name": "stdout",
     "output_type": "stream",
     "text": [
      "0.583999414633139\n"
     ]
    }
   ],
   "source": [
    "# create preds\n",
    "preds = gbm.predict_proba(model_test_df[gbm_model_fields])[:, 1]\n",
    "print(calc_logloss(preds, model_test_df['Result']))"
   ]
  },
  {
   "cell_type": "code",
   "execution_count": 185,
   "metadata": {},
   "outputs": [
    {
     "data": {
      "image/png": "[encoded data removed]",
      "text/plain": [
       "<matplotlib.figure.Figure at 0x1a0f9e4ac8>"
      ]
     },
     "metadata": {},
     "output_type": "display_data"
    }
   ],
   "source": [
    "# Feature Importances\n",
    "importances = gbm.feature_importances_\n",
    "fig, ax = plt.subplots(figsize=(5, 6))\n",
    "ax.barh(range(len(importances)), importances)\n",
    "ax.tick_params(axis='y', colors='white', labelsize=10)\n",
    "ax.set_yticklabels(gbm_model_fields)\n",
    "plt.yticks(range(len(importances)), gbm_model_fields)\n",
    "plt.show()"
   ]
  },
  {
   "cell_type": "code",
   "execution_count": null,
   "metadata": {},
   "outputs": [],
   "source": []
  },
  {
   "cell_type": "markdown",
   "metadata": {},
   "source": [
    "#### Tune GBM parameters"
   ]
  },
  {
   "cell_type": "code",
   "execution_count": 178,
   "metadata": {},
   "outputs": [],
   "source": [
    "param_grid = {\n",
    "        'n_estimators': [20,40,60],\n",
    "        'max_depth': [3,4,6],\n",
    "        'max_features': [3],\n",
    "        'learning_rate': [0.10, 0.12, 0.14]\n",
    "    }\n",
    "\n",
    "gbm = GradientBoostingClassifier(random_state=0)\n",
    "\n",
    "estimator = GridSearchCV(gbm,\n",
    "                         param_grid, \n",
    "                         scoring='neg_log_loss',\n",
    "                         n_jobs=-1)"
   ]
  },
  {
   "cell_type": "code",
   "execution_count": 179,
   "metadata": {},
   "outputs": [
    {
     "data": {
      "text/plain": [
       "GridSearchCV(cv=None, error_score='raise',\n",
       "       estimator=GradientBoostingClassifier(criterion='friedman_mse', init=None,\n",
       "              learning_rate=0.1, loss='deviance', max_depth=3,\n",
       "              max_features=None, max_leaf_nodes=None,\n",
       "              min_impurity_decrease=0.0, min_impurity_split=None,\n",
       "              min_samples_leaf=1, min_samples_split=2,\n",
       "              min_weight_fraction_leaf=0.0, n_estimators=100,\n",
       "              presort='auto', random_state=0, subsample=1.0, verbose=0,\n",
       "              warm_start=False),\n",
       "       fit_params=None, iid=True, n_jobs=-1,\n",
       "       param_grid={'n_estimators': [20, 40, 60], 'max_depth': [3, 4, 6], 'max_features': [3], 'learning_rate': [0.1, 0.12, 0.14]},\n",
       "       pre_dispatch='2*n_jobs', refit=True, return_train_score='warn',\n",
       "       scoring='neg_log_loss', verbose=0)"
      ]
     },
     "execution_count": 179,
     "metadata": {},
     "output_type": "execute_result"
    }
   ],
   "source": [
    "# fit model\n",
    "estimator.fit(model_train_df[gbm_model_fields], model_train_df['Result'])"
   ]
  },
  {
   "cell_type": "code",
   "execution_count": 180,
   "metadata": {},
   "outputs": [
    {
     "name": "stdout",
     "output_type": "stream",
     "text": [
      "0.5847661711058076\n"
     ]
    }
   ],
   "source": [
    "preds = estimator.predict_proba(model_test_df[gbm_model_fields])[:, 1]\n",
    "print(calc_logloss(preds, model_test_df['Result']))"
   ]
  },
  {
   "cell_type": "code",
   "execution_count": 181,
   "metadata": {},
   "outputs": [
    {
     "name": "stdout",
     "output_type": "stream",
     "text": [
      "{'learning_rate': 0.1, 'max_depth': 4, 'max_features': 3, 'n_estimators': 60}\n",
      "-0.5519292556034899\n"
     ]
    }
   ],
   "source": [
    "# Look at best parameter set\n",
    "print(estimator.best_params_)\n",
    "print(estimator.best_score_)"
   ]
  },
  {
   "cell_type": "code",
   "execution_count": null,
   "metadata": {},
   "outputs": [],
   "source": []
  },
  {
   "cell_type": "code",
   "execution_count": null,
   "metadata": {},
   "outputs": [],
   "source": []
  },
  {
   "cell_type": "code",
   "execution_count": null,
   "metadata": {},
   "outputs": [],
   "source": []
  },
  {
   "cell_type": "markdown",
   "metadata": {},
   "source": [
    "### Feature Selection"
   ]
  },
  {
   "cell_type": "code",
   "execution_count": 188,
   "metadata": {},
   "outputs": [],
   "source": [
    "importances = feature_selection.f_classif(model_train_df[logistic_model_fields], model_train_df['Result'])"
   ]
  },
  {
   "cell_type": "code",
   "execution_count": 189,
   "metadata": {},
   "outputs": [
    {
     "data": {
      "image/png": "[encoded data removed]",
      "text/plain": [
       "<matplotlib.figure.Figure at 0x121d63240>"
      ]
     },
     "metadata": {},
     "output_type": "display_data"
    }
   ],
   "source": [
    "fig, ax = plt.subplots(figsize=(5, 8))\n",
    "ax.barh(range(len(importances[0])), importances[0])\n",
    "ax.tick_params(axis='y', colors='white', labelsize=10)\n",
    "ax.set_yticklabels(logistic_model_fields)\n",
    "plt.yticks(range(len(importances[0])), logistic_model_fields)\n",
    "plt.show()"
   ]
  },
  {
   "cell_type": "code",
   "execution_count": null,
   "metadata": {},
   "outputs": [],
   "source": []
  },
  {
   "cell_type": "code",
   "execution_count": null,
   "metadata": {},
   "outputs": [],
   "source": []
  },
  {
   "cell_type": "code",
   "execution_count": null,
   "metadata": {},
   "outputs": [],
   "source": []
  },
  {
   "cell_type": "markdown",
   "metadata": {},
   "source": [
    "## Modeling - predict point spread\n",
    "* Predict point spread directly -> convert to win probability\n",
    "* Predict possessions, ppp -> convert to final score -> convert to win probability"
   ]
  },
  {
   "cell_type": "code",
   "execution_count": 186,
   "metadata": {},
   "outputs": [],
   "source": [
    "gbm = GradientBoostingRegressor(n_estimators=40, \n",
    "                                max_depth=4, \n",
    "                                 max_features=3,\n",
    "                                learning_rate=0.10)"
   ]
  },
  {
   "cell_type": "code",
   "execution_count": 187,
   "metadata": {},
   "outputs": [
    {
     "data": {
      "text/plain": [
       "GradientBoostingRegressor(alpha=0.9, criterion='friedman_mse', init=None,\n",
       "             learning_rate=0.1, loss='ls', max_depth=4, max_features=3,\n",
       "             max_leaf_nodes=None, min_impurity_decrease=0.0,\n",
       "             min_impurity_split=None, min_samples_leaf=1,\n",
       "             min_samples_split=2, min_weight_fraction_leaf=0.0,\n",
       "             n_estimators=40, presort='auto', random_state=None,\n",
       "             subsample=1.0, verbose=0, warm_start=False)"
      ]
     },
     "execution_count": 187,
     "metadata": {},
     "output_type": "execute_result"
    }
   ],
   "source": [
    "gbm.fit(model_train_df[gbm_model_fields], model_train_df['score_diff'])"
   ]
  },
  {
   "cell_type": "code",
   "execution_count": 188,
   "metadata": {},
   "outputs": [],
   "source": [
    "# create preds\n",
    "preds = gbm.predict(model_test_df[gbm_model_fields])\n",
    "preds = np.array([scipy.stats.norm(0,10.5).cdf(pred) for pred in preds])"
   ]
  },
  {
   "cell_type": "code",
   "execution_count": 189,
   "metadata": {},
   "outputs": [
    {
     "name": "stdout",
     "output_type": "stream",
     "text": [
      "0.5851967500305698\n"
     ]
    }
   ],
   "source": [
    "print(calc_logloss(preds, model_test_df['Result']))"
   ]
  },
  {
   "cell_type": "code",
   "execution_count": 190,
   "metadata": {},
   "outputs": [
    {
     "data": {
      "image/png": "[encoded data removed]",
      "text/plain": [
       "<matplotlib.figure.Figure at 0x1a12c8c2e8>"
      ]
     },
     "metadata": {},
     "output_type": "display_data"
    }
   ],
   "source": [
    "# Feature Importances\n",
    "importances = gbm.feature_importances_\n",
    "fig, ax = plt.subplots(figsize=(5, 6))\n",
    "ax.barh(range(len(importances)), importances)\n",
    "ax.tick_params(axis='y', colors='white', labelsize=10)\n",
    "ax.set_yticklabels(gbm_model_fields)\n",
    "plt.yticks(range(len(importances)), gbm_model_fields)\n",
    "plt.show()"
   ]
  },
  {
   "cell_type": "code",
   "execution_count": 191,
   "metadata": {},
   "outputs": [],
   "source": [
    "param_grid = {\n",
    "        'n_estimators': [20,40],\n",
    "        'max_depth': [4,5,6],\n",
    "        'max_features': [3],\n",
    "        'learning_rate': [0.08, 0.10, 0.15]\n",
    "    }\n",
    "\n",
    "gbm = GradientBoostingRegressor(random_state=0)\n",
    "\n",
    "estimator = GridSearchCV(gbm,\n",
    "                         param_grid, \n",
    "                         scoring='neg_mean_squared_error',\n",
    "                         n_jobs=-1)"
   ]
  },
  {
   "cell_type": "code",
   "execution_count": 192,
   "metadata": {},
   "outputs": [
    {
     "name": "stdout",
     "output_type": "stream",
     "text": [
      "{'learning_rate': 0.1, 'max_depth': 4, 'max_features': 3, 'n_estimators': 40}\n",
      "-114.81611485706023\n",
      "0.584697777667191\n"
     ]
    }
   ],
   "source": [
    "# fit model\n",
    "estimator.fit(model_train_df[gbm_model_fields], model_train_df['score_diff'])\n",
    "\n",
    "# Look at best parameter set\n",
    "print(estimator.best_params_)\n",
    "print(estimator.best_score_)\n",
    "\n",
    "# create preds\n",
    "preds = estimator.predict(model_test_df[gbm_model_fields])\n",
    "preds = np.array([scipy.stats.norm(0,10.5).cdf(pred) for pred in preds])\n",
    "print(calc_logloss(preds, model_test_df['Result']))"
   ]
  },
  {
   "cell_type": "code",
   "execution_count": null,
   "metadata": {},
   "outputs": [],
   "source": []
  },
  {
   "cell_type": "code",
   "execution_count": null,
   "metadata": {},
   "outputs": [],
   "source": []
  },
  {
   "cell_type": "code",
   "execution_count": null,
   "metadata": {},
   "outputs": [],
   "source": []
  },
  {
   "cell_type": "code",
   "execution_count": null,
   "metadata": {},
   "outputs": [],
   "source": []
  },
  {
   "cell_type": "markdown",
   "metadata": {},
   "source": [
    "## Create 2018 preds"
   ]
  },
  {
   "cell_type": "markdown",
   "metadata": {},
   "source": [
    "##### Create test data set"
   ]
  },
  {
   "cell_type": "code",
   "execution_count": 43,
   "metadata": {},
   "outputs": [],
   "source": [
    "test = sample_sub2.copy()"
   ]
  },
  {
   "cell_type": "code",
   "execution_count": 44,
   "metadata": {},
   "outputs": [],
   "source": [
    "test['t1_TeamID'] = [int(x[5:9]) for x in test['ID']]\n",
    "test['t2_TeamID'] = [int(x[10:14]) for x in test['ID']]\n",
    "test['DayNum'] = 135\n",
    "test['Season'] = 2018\n",
    "print(test.shape)"
   ]
  },
  {
   "cell_type": "code",
   "execution_count": 48,
   "metadata": {},
   "outputs": [],
   "source": [
    "for rnk_sys in massey_rank_systems:\n",
    "    test = add_in_massey_ordinal_field(test, rnk_sys, massey_ordinals)"
   ]
  },
  {
   "cell_type": "code",
   "execution_count": 49,
   "metadata": {},
   "outputs": [],
   "source": [
    "# Create location variables\n",
    "test['t1_Loc_H'] = 0\n",
    "test['t1_Loc_N'] = 1"
   ]
  },
  {
   "cell_type": "markdown",
   "metadata": {},
   "source": [
    "##### Create test preds"
   ]
  },
  {
   "cell_type": "code",
   "execution_count": 55,
   "metadata": {},
   "outputs": [
    {
     "name": "stdout",
     "output_type": "stream",
     "text": [
      "2278\n"
     ]
    }
   ],
   "source": [
    "test_preds = estimator.predict_proba(test[logistic_model_fields])[:, 1]\n",
    "print(len(test_preds))"
   ]
  },
  {
   "cell_type": "code",
   "execution_count": 56,
   "metadata": {},
   "outputs": [
    {
     "data": {
      "text/plain": [
       "array([0.36287436, 0.48639683, 0.39416024, 0.41164741, 0.67532664,\n",
       "       0.60973142, 0.40566186, 0.32114067, 0.3826258 , 0.88632615])"
      ]
     },
     "execution_count": 56,
     "metadata": {},
     "output_type": "execute_result"
    }
   ],
   "source": [
    "test_preds[0:10]"
   ]
  },
  {
   "cell_type": "markdown",
   "metadata": {},
   "source": [
    "##### Create submission file"
   ]
  },
  {
   "cell_type": "code",
   "execution_count": 57,
   "metadata": {},
   "outputs": [
    {
     "name": "stdout",
     "output_type": "stream",
     "text": [
      "(2278, 2)\n"
     ]
    }
   ],
   "source": [
    "submission_df = pd.DataFrame()\n",
    "submission_df['ID'] = test['ID']\n",
    "submission_df['Pred'] = test_preds\n",
    "print(submission_df.shape)"
   ]
  },
  {
   "cell_type": "code",
   "execution_count": 58,
   "metadata": {},
   "outputs": [
    {
     "data": {
      "text/html": [
       "<div>\n",
       "<style scoped>\n",
       "    .dataframe tbody tr th:only-of-type {\n",
       "        vertical-align: middle;\n",
       "    }\n",
       "\n",
       "    .dataframe tbody tr th {\n",
       "        vertical-align: top;\n",
       "    }\n",
       "\n",
       "    .dataframe thead th {\n",
       "        text-align: right;\n",
       "    }\n",
       "</style>\n",
       "<table border=\"1\" class=\"dataframe\">\n",
       "  <thead>\n",
       "    <tr style=\"text-align: right;\">\n",
       "      <th></th>\n",
       "      <th>ID</th>\n",
       "      <th>Pred</th>\n",
       "    </tr>\n",
       "  </thead>\n",
       "  <tbody>\n",
       "    <tr>\n",
       "      <th>0</th>\n",
       "      <td>2018_1104_1112</td>\n",
       "      <td>0.362874</td>\n",
       "    </tr>\n",
       "    <tr>\n",
       "      <th>1</th>\n",
       "      <td>2018_1104_1305</td>\n",
       "      <td>0.486397</td>\n",
       "    </tr>\n",
       "    <tr>\n",
       "      <th>2</th>\n",
       "      <td>2018_1104_1116</td>\n",
       "      <td>0.394160</td>\n",
       "    </tr>\n",
       "    <tr>\n",
       "      <th>3</th>\n",
       "      <td>2018_1104_1120</td>\n",
       "      <td>0.411647</td>\n",
       "    </tr>\n",
       "    <tr>\n",
       "      <th>4</th>\n",
       "      <td>2018_1104_1137</td>\n",
       "      <td>0.675327</td>\n",
       "    </tr>\n",
       "  </tbody>\n",
       "</table>\n",
       "</div>"
      ],
      "text/plain": [
       "               ID      Pred\n",
       "0  2018_1104_1112  0.362874\n",
       "1  2018_1104_1305  0.486397\n",
       "2  2018_1104_1116  0.394160\n",
       "3  2018_1104_1120  0.411647\n",
       "4  2018_1104_1137  0.675327"
      ]
     },
     "execution_count": 58,
     "metadata": {},
     "output_type": "execute_result"
    }
   ],
   "source": [
    "submission_df.head()"
   ]
  },
  {
   "cell_type": "code",
   "execution_count": null,
   "metadata": {},
   "outputs": [],
   "source": []
  },
  {
   "cell_type": "markdown",
   "metadata": {},
   "source": [
    "### Check first round"
   ]
  },
  {
   "cell_type": "code",
   "execution_count": 133,
   "metadata": {},
   "outputs": [
    {
     "name": "stdout",
     "output_type": "stream",
     "text": [
      "first_round_games (32, 5)\n"
     ]
    }
   ],
   "source": [
    "first_round_games = read_in_file_to_df(\"first_round_games\")"
   ]
  },
  {
   "cell_type": "code",
   "execution_count": 134,
   "metadata": {},
   "outputs": [],
   "source": [
    "def calc_vegas_line_preds(row):\n",
    "    if row['vegas_line'] >= 0:\n",
    "        return abs(scipy.stats.norm(0,10.5).cdf(row['vegas_line']) - 1)\n",
    "    else:\n",
    "        return 1 - scipy.stats.norm(0,10.5).cdf(row['vegas_line'])"
   ]
  },
  {
   "cell_type": "code",
   "execution_count": 135,
   "metadata": {},
   "outputs": [],
   "source": [
    "first_round_games['vegas_line_preds'] = first_round_games.apply(calc_vegas_line_preds, axis=1)"
   ]
  },
  {
   "cell_type": "code",
   "execution_count": 136,
   "metadata": {},
   "outputs": [],
   "source": [
    "check_my_preds = pd.merge(left=first_round_games, right=submission_df, on='ID', how='left')"
   ]
  },
  {
   "cell_type": "code",
   "execution_count": 138,
   "metadata": {},
   "outputs": [
    {
     "data": {
      "text/html": [
       "<div>\n",
       "<style scoped>\n",
       "    .dataframe tbody tr th:only-of-type {\n",
       "        vertical-align: middle;\n",
       "    }\n",
       "\n",
       "    .dataframe tbody tr th {\n",
       "        vertical-align: top;\n",
       "    }\n",
       "\n",
       "    .dataframe thead th {\n",
       "        text-align: right;\n",
       "    }\n",
       "</style>\n",
       "<table border=\"1\" class=\"dataframe\">\n",
       "  <thead>\n",
       "    <tr style=\"text-align: right;\">\n",
       "      <th></th>\n",
       "      <th>t1_name</th>\n",
       "      <th>t2_name</th>\n",
       "      <th>pred_538</th>\n",
       "      <th>vegas_line_preds</th>\n",
       "      <th>Pred</th>\n",
       "    </tr>\n",
       "  </thead>\n",
       "  <tbody>\n",
       "    <tr>\n",
       "      <th>0</th>\n",
       "      <td>UMBC</td>\n",
       "      <td>Virginia</td>\n",
       "      <td>0.02</td>\n",
       "      <td>0.01</td>\n",
       "      <td>0.06</td>\n",
       "    </tr>\n",
       "    <tr>\n",
       "      <th>1</th>\n",
       "      <td>Creighton</td>\n",
       "      <td>Kansas State</td>\n",
       "      <td>0.58</td>\n",
       "      <td>0.56</td>\n",
       "      <td>0.61</td>\n",
       "    </tr>\n",
       "    <tr>\n",
       "      <th>2</th>\n",
       "      <td>Davidson</td>\n",
       "      <td>Kentucky</td>\n",
       "      <td>0.24</td>\n",
       "      <td>0.28</td>\n",
       "      <td>0.36</td>\n",
       "    </tr>\n",
       "    <tr>\n",
       "      <th>3</th>\n",
       "      <td>Ariziona</td>\n",
       "      <td>Buffalo</td>\n",
       "      <td>0.85</td>\n",
       "      <td>0.80</td>\n",
       "      <td>0.72</td>\n",
       "    </tr>\n",
       "    <tr>\n",
       "      <th>4</th>\n",
       "      <td>Loyola-Chicago</td>\n",
       "      <td>Miami</td>\n",
       "      <td>0.40</td>\n",
       "      <td>0.42</td>\n",
       "      <td>0.37</td>\n",
       "    </tr>\n",
       "    <tr>\n",
       "      <th>5</th>\n",
       "      <td>Tennessee</td>\n",
       "      <td>Wright St.</td>\n",
       "      <td>0.91</td>\n",
       "      <td>0.89</td>\n",
       "      <td>0.85</td>\n",
       "    </tr>\n",
       "    <tr>\n",
       "      <th>6</th>\n",
       "      <td>Nevada</td>\n",
       "      <td>Texas</td>\n",
       "      <td>0.40</td>\n",
       "      <td>0.54</td>\n",
       "      <td>0.50</td>\n",
       "    </tr>\n",
       "    <tr>\n",
       "      <th>7</th>\n",
       "      <td>Cincinnati</td>\n",
       "      <td>Georgia St.</td>\n",
       "      <td>0.93</td>\n",
       "      <td>0.91</td>\n",
       "      <td>0.89</td>\n",
       "    </tr>\n",
       "    <tr>\n",
       "      <th>8</th>\n",
       "      <td>NCCU</td>\n",
       "      <td>Xavier</td>\n",
       "      <td>0.02</td>\n",
       "      <td>NaN</td>\n",
       "      <td>0.06</td>\n",
       "    </tr>\n",
       "    <tr>\n",
       "      <th>9</th>\n",
       "      <td>FSU</td>\n",
       "      <td>Missouri</td>\n",
       "      <td>0.71</td>\n",
       "      <td>0.54</td>\n",
       "      <td>0.51</td>\n",
       "    </tr>\n",
       "    <tr>\n",
       "      <th>10</th>\n",
       "      <td>OSU</td>\n",
       "      <td>S Dakota St.</td>\n",
       "      <td>0.77</td>\n",
       "      <td>0.78</td>\n",
       "      <td>0.73</td>\n",
       "    </tr>\n",
       "    <tr>\n",
       "      <th>11</th>\n",
       "      <td>Gonzaga</td>\n",
       "      <td>UNCG</td>\n",
       "      <td>0.92</td>\n",
       "      <td>0.88</td>\n",
       "      <td>0.85</td>\n",
       "    </tr>\n",
       "    <tr>\n",
       "      <th>12</th>\n",
       "      <td>Houston</td>\n",
       "      <td>San Diego St.</td>\n",
       "      <td>0.72</td>\n",
       "      <td>0.65</td>\n",
       "      <td>0.66</td>\n",
       "    </tr>\n",
       "    <tr>\n",
       "      <th>13</th>\n",
       "      <td>Michigan</td>\n",
       "      <td>Montana</td>\n",
       "      <td>0.89</td>\n",
       "      <td>0.85</td>\n",
       "      <td>0.87</td>\n",
       "    </tr>\n",
       "    <tr>\n",
       "      <th>14</th>\n",
       "      <td>Providence</td>\n",
       "      <td>Texas A&amp;M</td>\n",
       "      <td>0.42</td>\n",
       "      <td>0.37</td>\n",
       "      <td>0.37</td>\n",
       "    </tr>\n",
       "    <tr>\n",
       "      <th>15</th>\n",
       "      <td>Lipscomb</td>\n",
       "      <td>UNC</td>\n",
       "      <td>0.04</td>\n",
       "      <td>0.03</td>\n",
       "      <td>0.08</td>\n",
       "    </tr>\n",
       "    <tr>\n",
       "      <th>16</th>\n",
       "      <td>Radford</td>\n",
       "      <td>Villanova</td>\n",
       "      <td>0.01</td>\n",
       "      <td>NaN</td>\n",
       "      <td>0.07</td>\n",
       "    </tr>\n",
       "    <tr>\n",
       "      <th>17</th>\n",
       "      <td>Alabama</td>\n",
       "      <td>Virginia Tech</td>\n",
       "      <td>0.41</td>\n",
       "      <td>0.42</td>\n",
       "      <td>0.49</td>\n",
       "    </tr>\n",
       "    <tr>\n",
       "      <th>18</th>\n",
       "      <td>Murray St.</td>\n",
       "      <td>WVU</td>\n",
       "      <td>0.16</td>\n",
       "      <td>0.14</td>\n",
       "      <td>0.28</td>\n",
       "    </tr>\n",
       "    <tr>\n",
       "      <th>19</th>\n",
       "      <td>Marshall</td>\n",
       "      <td>Wichita St.</td>\n",
       "      <td>0.09</td>\n",
       "      <td>0.14</td>\n",
       "      <td>0.17</td>\n",
       "    </tr>\n",
       "    <tr>\n",
       "      <th>20</th>\n",
       "      <td>Florida</td>\n",
       "      <td>UCLA</td>\n",
       "      <td>0.66</td>\n",
       "      <td>NaN</td>\n",
       "      <td>0.63</td>\n",
       "    </tr>\n",
       "    <tr>\n",
       "      <th>21</th>\n",
       "      <td>SF Austin</td>\n",
       "      <td>Texas Tech</td>\n",
       "      <td>0.11</td>\n",
       "      <td>0.14</td>\n",
       "      <td>0.17</td>\n",
       "    </tr>\n",
       "    <tr>\n",
       "      <th>22</th>\n",
       "      <td>Arkansas</td>\n",
       "      <td>Butler</td>\n",
       "      <td>0.40</td>\n",
       "      <td>0.44</td>\n",
       "      <td>0.51</td>\n",
       "    </tr>\n",
       "    <tr>\n",
       "      <th>23</th>\n",
       "      <td>CSU Fullerton</td>\n",
       "      <td>Purdue</td>\n",
       "      <td>0.02</td>\n",
       "      <td>0.03</td>\n",
       "      <td>0.08</td>\n",
       "    </tr>\n",
       "    <tr>\n",
       "      <th>24</th>\n",
       "      <td>Kansas</td>\n",
       "      <td>Penn</td>\n",
       "      <td>0.95</td>\n",
       "      <td>0.91</td>\n",
       "      <td>0.88</td>\n",
       "    </tr>\n",
       "    <tr>\n",
       "      <th>25</th>\n",
       "      <td>NCSU</td>\n",
       "      <td>Seton Hall</td>\n",
       "      <td>0.37</td>\n",
       "      <td>0.41</td>\n",
       "      <td>0.39</td>\n",
       "    </tr>\n",
       "    <tr>\n",
       "      <th>26</th>\n",
       "      <td>Clemson</td>\n",
       "      <td>New Mexico St.</td>\n",
       "      <td>0.62</td>\n",
       "      <td>0.68</td>\n",
       "      <td>0.69</td>\n",
       "    </tr>\n",
       "    <tr>\n",
       "      <th>27</th>\n",
       "      <td>Auburn</td>\n",
       "      <td>Charleston</td>\n",
       "      <td>0.80</td>\n",
       "      <td>0.83</td>\n",
       "      <td>0.76</td>\n",
       "    </tr>\n",
       "    <tr>\n",
       "      <th>28</th>\n",
       "      <td>ASU</td>\n",
       "      <td>TCU</td>\n",
       "      <td>0.27</td>\n",
       "      <td>NaN</td>\n",
       "      <td>NaN</td>\n",
       "    </tr>\n",
       "    <tr>\n",
       "      <th>29</th>\n",
       "      <td>Bucknell</td>\n",
       "      <td>MSU</td>\n",
       "      <td>0.08</td>\n",
       "      <td>0.08</td>\n",
       "      <td>0.14</td>\n",
       "    </tr>\n",
       "    <tr>\n",
       "      <th>30</th>\n",
       "      <td>Oklahoma</td>\n",
       "      <td>Rhode Island</td>\n",
       "      <td>0.42</td>\n",
       "      <td>0.42</td>\n",
       "      <td>0.51</td>\n",
       "    </tr>\n",
       "    <tr>\n",
       "      <th>31</th>\n",
       "      <td>Duke</td>\n",
       "      <td>Iona</td>\n",
       "      <td>0.96</td>\n",
       "      <td>0.97</td>\n",
       "      <td>0.87</td>\n",
       "    </tr>\n",
       "  </tbody>\n",
       "</table>\n",
       "</div>"
      ],
      "text/plain": [
       "           t1_name         t2_name  pred_538  vegas_line_preds  Pred\n",
       "0             UMBC        Virginia      0.02              0.01  0.06\n",
       "1        Creighton    Kansas State      0.58              0.56  0.61\n",
       "2         Davidson        Kentucky      0.24              0.28  0.36\n",
       "3         Ariziona         Buffalo      0.85              0.80  0.72\n",
       "4   Loyola-Chicago           Miami      0.40              0.42  0.37\n",
       "5        Tennessee      Wright St.      0.91              0.89  0.85\n",
       "6           Nevada           Texas      0.40              0.54  0.50\n",
       "7       Cincinnati     Georgia St.      0.93              0.91  0.89\n",
       "8             NCCU          Xavier      0.02               NaN  0.06\n",
       "9              FSU        Missouri      0.71              0.54  0.51\n",
       "10             OSU    S Dakota St.      0.77              0.78  0.73\n",
       "11         Gonzaga            UNCG      0.92              0.88  0.85\n",
       "12         Houston   San Diego St.      0.72              0.65  0.66\n",
       "13        Michigan         Montana      0.89              0.85  0.87\n",
       "14      Providence       Texas A&M      0.42              0.37  0.37\n",
       "15        Lipscomb             UNC      0.04              0.03  0.08\n",
       "16         Radford       Villanova      0.01               NaN  0.07\n",
       "17         Alabama   Virginia Tech      0.41              0.42  0.49\n",
       "18      Murray St.             WVU      0.16              0.14  0.28\n",
       "19        Marshall     Wichita St.      0.09              0.14  0.17\n",
       "20         Florida            UCLA      0.66               NaN  0.63\n",
       "21       SF Austin      Texas Tech      0.11              0.14  0.17\n",
       "22        Arkansas          Butler      0.40              0.44  0.51\n",
       "23   CSU Fullerton          Purdue      0.02              0.03  0.08\n",
       "24          Kansas            Penn      0.95              0.91  0.88\n",
       "25            NCSU      Seton Hall      0.37              0.41  0.39\n",
       "26         Clemson  New Mexico St.      0.62              0.68  0.69\n",
       "27          Auburn      Charleston      0.80              0.83  0.76\n",
       "28             ASU             TCU      0.27               NaN   NaN\n",
       "29        Bucknell             MSU      0.08              0.08  0.14\n",
       "30        Oklahoma    Rhode Island      0.42              0.42  0.51\n",
       "31            Duke            Iona      0.96              0.97  0.87"
      ]
     },
     "execution_count": 138,
     "metadata": {},
     "output_type": "execute_result"
    }
   ],
   "source": [
    "check_my_preds[['t1_name', 't2_name', 'pred_538', 'vegas_line_preds', 'Pred']].round(2)"
   ]
  },
  {
   "cell_type": "code",
   "execution_count": null,
   "metadata": {},
   "outputs": [],
   "source": []
  },
  {
   "cell_type": "code",
   "execution_count": null,
   "metadata": {},
   "outputs": [],
   "source": []
  },
  {
   "cell_type": "code",
   "execution_count": null,
   "metadata": {},
   "outputs": [],
   "source": []
  },
  {
   "cell_type": "code",
   "execution_count": null,
   "metadata": {},
   "outputs": [],
   "source": []
  },
  {
   "cell_type": "code",
   "execution_count": 96,
   "metadata": {},
   "outputs": [],
   "source": [
    "# Some reference sites:\n",
    "\n",
    "# 538 preds:\n",
    "#https://projects.fivethirtyeight.com/2018-march-madness-predictions/\n",
    "\n",
    "# Vegas odds:\n",
    "#http://www.vegasinsider.com/college-basketball/odds/las-vegas/\n",
    "\n",
    "# ESPN schedule:\n",
    "#http://www.espn.com/mens-college-basketball/scoreboard/_/date/20180315"
   ]
  },
  {
   "cell_type": "code",
   "execution_count": null,
   "metadata": {},
   "outputs": [],
   "source": []
  }
 ],
 "metadata": {
  "kernelspec": {
   "display_name": "Python 3",
   "language": "python",
   "name": "python3"
  },
  "language_info": {
   "codemirror_mode": {
    "name": "ipython",
    "version": 3
   },
   "file_extension": ".py",
   "mimetype": "text/x-python",
   "name": "python",
   "nbconvert_exporter": "python",
   "pygments_lexer": "ipython3",
   "version": "3.6.4"
  }
 },
 "nbformat": 4,
 "nbformat_minor": 2
}
